{
  "nbformat": 4,
  "nbformat_minor": 0,
  "metadata": {
    "colab": {
      "provenance": [],
      "authorship_tag": "ABX9TyN8/XWLvrE+T8fIuPgLKPjI",
      "include_colab_link": true
    },
    "kernelspec": {
      "name": "python3",
      "display_name": "Python 3"
    },
    "language_info": {
      "name": "python"
    }
  },
  "cells": [
    {
      "cell_type": "markdown",
      "metadata": {
        "id": "view-in-github",
        "colab_type": "text"
      },
      "source": [
        "<a href=\"https://colab.research.google.com/github/ram130849/walmart_store_sales_prediction/blob/main/Walmart_Sales_Forecast.ipynb\" target=\"_parent\"><img src=\"https://colab.research.google.com/assets/colab-badge.svg\" alt=\"Open In Colab\"/></a>"
      ]
    },
    {
      "cell_type": "code",
      "source": [
        "!pip install pmdarima\n",
        "!pip install arch"
      ],
      "metadata": {
        "colab": {
          "base_uri": "https://localhost:8080/"
        },
        "id": "mKlLEgDvYeC9",
        "outputId": "a6356380-ea57-4a90-d4d6-24c5e61fd154"
      },
      "execution_count": null,
      "outputs": [
        {
          "output_type": "stream",
          "name": "stdout",
          "text": [
            "Looking in indexes: https://pypi.org/simple, https://us-python.pkg.dev/colab-wheels/public/simple/\n",
            "Collecting pmdarima\n",
            "  Downloading pmdarima-2.0.3-cp310-cp310-manylinux_2_17_x86_64.manylinux2014_x86_64.manylinux_2_28_x86_64.whl (1.8 MB)\n",
            "\u001b[2K     \u001b[90m━━━━━━━━━━━━━━━━━━━━━━━━━━━━━━━━━━━━━━━━\u001b[0m \u001b[32m1.8/1.8 MB\u001b[0m \u001b[31m27.3 MB/s\u001b[0m eta \u001b[36m0:00:00\u001b[0m\n",
            "\u001b[?25hRequirement already satisfied: joblib>=0.11 in /usr/local/lib/python3.10/dist-packages (from pmdarima) (1.2.0)\n",
            "Requirement already satisfied: Cython!=0.29.18,!=0.29.31,>=0.29 in /usr/local/lib/python3.10/dist-packages (from pmdarima) (0.29.34)\n",
            "Requirement already satisfied: numpy>=1.21.2 in /usr/local/lib/python3.10/dist-packages (from pmdarima) (1.22.4)\n",
            "Requirement already satisfied: pandas>=0.19 in /usr/local/lib/python3.10/dist-packages (from pmdarima) (1.5.3)\n",
            "Requirement already satisfied: scikit-learn>=0.22 in /usr/local/lib/python3.10/dist-packages (from pmdarima) (1.2.2)\n",
            "Requirement already satisfied: scipy>=1.3.2 in /usr/local/lib/python3.10/dist-packages (from pmdarima) (1.10.1)\n",
            "Requirement already satisfied: statsmodels>=0.13.2 in /usr/local/lib/python3.10/dist-packages (from pmdarima) (0.13.5)\n",
            "Requirement already satisfied: urllib3 in /usr/local/lib/python3.10/dist-packages (from pmdarima) (1.26.15)\n",
            "Requirement already satisfied: setuptools!=50.0.0,>=38.6.0 in /usr/local/lib/python3.10/dist-packages (from pmdarima) (67.7.2)\n",
            "Requirement already satisfied: python-dateutil>=2.8.1 in /usr/local/lib/python3.10/dist-packages (from pandas>=0.19->pmdarima) (2.8.2)\n",
            "Requirement already satisfied: pytz>=2020.1 in /usr/local/lib/python3.10/dist-packages (from pandas>=0.19->pmdarima) (2022.7.1)\n",
            "Requirement already satisfied: threadpoolctl>=2.0.0 in /usr/local/lib/python3.10/dist-packages (from scikit-learn>=0.22->pmdarima) (3.1.0)\n",
            "Requirement already satisfied: patsy>=0.5.2 in /usr/local/lib/python3.10/dist-packages (from statsmodels>=0.13.2->pmdarima) (0.5.3)\n",
            "Requirement already satisfied: packaging>=21.3 in /usr/local/lib/python3.10/dist-packages (from statsmodels>=0.13.2->pmdarima) (23.1)\n",
            "Requirement already satisfied: six in /usr/local/lib/python3.10/dist-packages (from patsy>=0.5.2->statsmodels>=0.13.2->pmdarima) (1.16.0)\n",
            "Installing collected packages: pmdarima\n",
            "Successfully installed pmdarima-2.0.3\n",
            "Looking in indexes: https://pypi.org/simple, https://us-python.pkg.dev/colab-wheels/public/simple/\n",
            "Collecting arch\n",
            "  Downloading arch-5.5.0-cp310-cp310-manylinux_2_17_x86_64.manylinux2014_x86_64.whl (918 kB)\n",
            "\u001b[2K     \u001b[90m━━━━━━━━━━━━━━━━━━━━━━━━━━━━━━━━━━━━━━\u001b[0m \u001b[32m918.2/918.2 kB\u001b[0m \u001b[31m21.2 MB/s\u001b[0m eta \u001b[36m0:00:00\u001b[0m\n",
            "\u001b[?25hRequirement already satisfied: numpy>=1.17 in /usr/local/lib/python3.10/dist-packages (from arch) (1.22.4)\n",
            "Requirement already satisfied: scipy>=1.3 in /usr/local/lib/python3.10/dist-packages (from arch) (1.10.1)\n",
            "Requirement already satisfied: pandas>=1.0 in /usr/local/lib/python3.10/dist-packages (from arch) (1.5.3)\n",
            "Requirement already satisfied: statsmodels>=0.11 in /usr/local/lib/python3.10/dist-packages (from arch) (0.13.5)\n",
            "Collecting property-cached>=1.6.4 (from arch)\n",
            "  Downloading property_cached-1.6.4-py2.py3-none-any.whl (7.8 kB)\n",
            "Requirement already satisfied: python-dateutil>=2.8.1 in /usr/local/lib/python3.10/dist-packages (from pandas>=1.0->arch) (2.8.2)\n",
            "Requirement already satisfied: pytz>=2020.1 in /usr/local/lib/python3.10/dist-packages (from pandas>=1.0->arch) (2022.7.1)\n",
            "Requirement already satisfied: patsy>=0.5.2 in /usr/local/lib/python3.10/dist-packages (from statsmodels>=0.11->arch) (0.5.3)\n",
            "Requirement already satisfied: packaging>=21.3 in /usr/local/lib/python3.10/dist-packages (from statsmodels>=0.11->arch) (23.1)\n",
            "Requirement already satisfied: six in /usr/local/lib/python3.10/dist-packages (from patsy>=0.5.2->statsmodels>=0.11->arch) (1.16.0)\n",
            "Installing collected packages: property-cached, arch\n",
            "Successfully installed arch-5.5.0 property-cached-1.6.4\n"
          ]
        }
      ]
    },
    {
      "cell_type": "code",
      "source": [
        "import pandas as pd\n",
        "import numpy as np\n",
        "import matplotlib.pyplot as plt\n",
        "import seaborn as sns\n",
        "import math\n",
        "import itertools\n",
        "\n",
        "import statsmodels.api as sm\n",
        "import statsmodels.tsa.api as smt\n",
        "import statsmodels.formula.api as smf\n",
        "\n",
        "from sklearn.model_selection import train_test_split\n",
        "from statsmodels.tsa.seasonal import seasonal_decompose as season\n",
        "from sklearn.metrics import mean_squared_error, mean_absolute_error\n",
        "from sklearn.metrics import accuracy_score, balanced_accuracy_score\n",
        "from sklearn.model_selection import cross_val_score\n",
        "from sklearn.pipeline import make_pipeline, Pipeline\n",
        "from sklearn.ensemble import RandomForestRegressor\n",
        "from sklearn import metrics\n",
        "from sklearn.linear_model import LinearRegression \n",
        "from sklearn import preprocessing\n",
        "\n",
        "from statsmodels.tsa.holtwinters import ExponentialSmoothing\n",
        "from statsmodels.tsa.stattools import adfuller, acf, pacf\n",
        "from statsmodels.graphics.tsaplots import plot_acf,plot_pacf\n",
        "from statsmodels.tsa.arima_model import ARIMA\n",
        "\n",
        "\n",
        "from pmdarima.utils import decomposed_plot\n",
        "from pmdarima.arima import decompose\n",
        "from pmdarima import auto_arima\n",
        "\n",
        "from arch import arch_model\n",
        "from arch.univariate import ARX, GARCH, StudentsT, Normal"
      ],
      "metadata": {
        "id": "-jMphm1NQyuf"
      },
      "execution_count": null,
      "outputs": []
    },
    {
      "cell_type": "code",
      "execution_count": null,
      "metadata": {
        "id": "iIocv6qhPddx"
      },
      "outputs": [],
      "source": [
        "import warnings        \n",
        "# ignore filters\n",
        "warnings.filterwarnings(\"ignore\") # if there is a warning after some codes, this will avoid us to see them.\n",
        "plt.style.use('ggplot')\n",
        "pd.options.display.max_columns=100\n",
        "%matplotlib inline"
      ]
    },
    {
      "cell_type": "code",
      "source": [
        "import zipfile\n",
        "with zipfile.ZipFile('/content/archive.zip', 'r') as zip_ref:\n",
        "    zip_ref.extractall('/content/')"
      ],
      "metadata": {
        "id": "h6boBDOaQyrR"
      },
      "execution_count": null,
      "outputs": []
    },
    {
      "cell_type": "code",
      "source": [
        "df_store = pd.read_csv('/content/stores.csv')\n",
        "df_features = pd.read_csv('/content/features.csv')"
      ],
      "metadata": {
        "id": "9yb7UbT6Qx-V"
      },
      "execution_count": null,
      "outputs": []
    },
    {
      "cell_type": "code",
      "source": [
        "df_store.head(5)"
      ],
      "metadata": {
        "colab": {
          "base_uri": "https://localhost:8080/",
          "height": 206
        },
        "id": "DgRCMjICaq6A",
        "outputId": "6a73b736-88d5-424a-b4fb-96725bfed5bf"
      },
      "execution_count": null,
      "outputs": [
        {
          "output_type": "execute_result",
          "data": {
            "text/plain": [
              "   Store Type    Size\n",
              "0      1    A  151315\n",
              "1      2    A  202307\n",
              "2      3    B   37392\n",
              "3      4    A  205863\n",
              "4      5    B   34875"
            ],
            "text/html": [
              "\n",
              "  <div id=\"df-19352253-50c7-46ca-a95b-93e26c252352\">\n",
              "    <div class=\"colab-df-container\">\n",
              "      <div>\n",
              "<style scoped>\n",
              "    .dataframe tbody tr th:only-of-type {\n",
              "        vertical-align: middle;\n",
              "    }\n",
              "\n",
              "    .dataframe tbody tr th {\n",
              "        vertical-align: top;\n",
              "    }\n",
              "\n",
              "    .dataframe thead th {\n",
              "        text-align: right;\n",
              "    }\n",
              "</style>\n",
              "<table border=\"1\" class=\"dataframe\">\n",
              "  <thead>\n",
              "    <tr style=\"text-align: right;\">\n",
              "      <th></th>\n",
              "      <th>Store</th>\n",
              "      <th>Type</th>\n",
              "      <th>Size</th>\n",
              "    </tr>\n",
              "  </thead>\n",
              "  <tbody>\n",
              "    <tr>\n",
              "      <th>0</th>\n",
              "      <td>1</td>\n",
              "      <td>A</td>\n",
              "      <td>151315</td>\n",
              "    </tr>\n",
              "    <tr>\n",
              "      <th>1</th>\n",
              "      <td>2</td>\n",
              "      <td>A</td>\n",
              "      <td>202307</td>\n",
              "    </tr>\n",
              "    <tr>\n",
              "      <th>2</th>\n",
              "      <td>3</td>\n",
              "      <td>B</td>\n",
              "      <td>37392</td>\n",
              "    </tr>\n",
              "    <tr>\n",
              "      <th>3</th>\n",
              "      <td>4</td>\n",
              "      <td>A</td>\n",
              "      <td>205863</td>\n",
              "    </tr>\n",
              "    <tr>\n",
              "      <th>4</th>\n",
              "      <td>5</td>\n",
              "      <td>B</td>\n",
              "      <td>34875</td>\n",
              "    </tr>\n",
              "  </tbody>\n",
              "</table>\n",
              "</div>\n",
              "      <button class=\"colab-df-convert\" onclick=\"convertToInteractive('df-19352253-50c7-46ca-a95b-93e26c252352')\"\n",
              "              title=\"Convert this dataframe to an interactive table.\"\n",
              "              style=\"display:none;\">\n",
              "        \n",
              "  <svg xmlns=\"http://www.w3.org/2000/svg\" height=\"24px\"viewBox=\"0 0 24 24\"\n",
              "       width=\"24px\">\n",
              "    <path d=\"M0 0h24v24H0V0z\" fill=\"none\"/>\n",
              "    <path d=\"M18.56 5.44l.94 2.06.94-2.06 2.06-.94-2.06-.94-.94-2.06-.94 2.06-2.06.94zm-11 1L8.5 8.5l.94-2.06 2.06-.94-2.06-.94L8.5 2.5l-.94 2.06-2.06.94zm10 10l.94 2.06.94-2.06 2.06-.94-2.06-.94-.94-2.06-.94 2.06-2.06.94z\"/><path d=\"M17.41 7.96l-1.37-1.37c-.4-.4-.92-.59-1.43-.59-.52 0-1.04.2-1.43.59L10.3 9.45l-7.72 7.72c-.78.78-.78 2.05 0 2.83L4 21.41c.39.39.9.59 1.41.59.51 0 1.02-.2 1.41-.59l7.78-7.78 2.81-2.81c.8-.78.8-2.07 0-2.86zM5.41 20L4 18.59l7.72-7.72 1.47 1.35L5.41 20z\"/>\n",
              "  </svg>\n",
              "      </button>\n",
              "      \n",
              "  <style>\n",
              "    .colab-df-container {\n",
              "      display:flex;\n",
              "      flex-wrap:wrap;\n",
              "      gap: 12px;\n",
              "    }\n",
              "\n",
              "    .colab-df-convert {\n",
              "      background-color: #E8F0FE;\n",
              "      border: none;\n",
              "      border-radius: 50%;\n",
              "      cursor: pointer;\n",
              "      display: none;\n",
              "      fill: #1967D2;\n",
              "      height: 32px;\n",
              "      padding: 0 0 0 0;\n",
              "      width: 32px;\n",
              "    }\n",
              "\n",
              "    .colab-df-convert:hover {\n",
              "      background-color: #E2EBFA;\n",
              "      box-shadow: 0px 1px 2px rgba(60, 64, 67, 0.3), 0px 1px 3px 1px rgba(60, 64, 67, 0.15);\n",
              "      fill: #174EA6;\n",
              "    }\n",
              "\n",
              "    [theme=dark] .colab-df-convert {\n",
              "      background-color: #3B4455;\n",
              "      fill: #D2E3FC;\n",
              "    }\n",
              "\n",
              "    [theme=dark] .colab-df-convert:hover {\n",
              "      background-color: #434B5C;\n",
              "      box-shadow: 0px 1px 3px 1px rgba(0, 0, 0, 0.15);\n",
              "      filter: drop-shadow(0px 1px 2px rgba(0, 0, 0, 0.3));\n",
              "      fill: #FFFFFF;\n",
              "    }\n",
              "  </style>\n",
              "\n",
              "      <script>\n",
              "        const buttonEl =\n",
              "          document.querySelector('#df-19352253-50c7-46ca-a95b-93e26c252352 button.colab-df-convert');\n",
              "        buttonEl.style.display =\n",
              "          google.colab.kernel.accessAllowed ? 'block' : 'none';\n",
              "\n",
              "        async function convertToInteractive(key) {\n",
              "          const element = document.querySelector('#df-19352253-50c7-46ca-a95b-93e26c252352');\n",
              "          const dataTable =\n",
              "            await google.colab.kernel.invokeFunction('convertToInteractive',\n",
              "                                                     [key], {});\n",
              "          if (!dataTable) return;\n",
              "\n",
              "          const docLinkHtml = 'Like what you see? Visit the ' +\n",
              "            '<a target=\"_blank\" href=https://colab.research.google.com/notebooks/data_table.ipynb>data table notebook</a>'\n",
              "            + ' to learn more about interactive tables.';\n",
              "          element.innerHTML = '';\n",
              "          dataTable['output_type'] = 'display_data';\n",
              "          await google.colab.output.renderOutput(dataTable, element);\n",
              "          const docLink = document.createElement('div');\n",
              "          docLink.innerHTML = docLinkHtml;\n",
              "          element.appendChild(docLink);\n",
              "        }\n",
              "      </script>\n",
              "    </div>\n",
              "  </div>\n",
              "  "
            ]
          },
          "metadata": {},
          "execution_count": 6
        }
      ]
    },
    {
      "cell_type": "code",
      "source": [
        "df_features.head(-5)"
      ],
      "metadata": {
        "colab": {
          "base_uri": "https://localhost:8080/",
          "height": 423
        },
        "id": "lWRlj4-KavrV",
        "outputId": "ae679ec1-0252-4e65-8a65-fb06d6466423"
      },
      "execution_count": null,
      "outputs": [
        {
          "output_type": "execute_result",
          "data": {
            "text/plain": [
              "      Store        Date  Temperature  Fuel_Price  MarkDown1  MarkDown2  \\\n",
              "0         1  2010-02-05        42.31       2.572        NaN        NaN   \n",
              "1         1  2010-02-12        38.51       2.548        NaN        NaN   \n",
              "2         1  2010-02-19        39.93       2.514        NaN        NaN   \n",
              "3         1  2010-02-26        46.63       2.561        NaN        NaN   \n",
              "4         1  2010-03-05        46.50       2.625        NaN        NaN   \n",
              "...     ...         ...          ...         ...        ...        ...   \n",
              "8180     45  2013-05-24        67.11       3.627    3249.34     481.82   \n",
              "8181     45  2013-05-31        65.88       3.646    6474.49     411.38   \n",
              "8182     45  2013-06-07        70.71       3.633    9977.82     744.29   \n",
              "8183     45  2013-06-14        70.01       3.632    2471.44     517.87   \n",
              "8184     45  2013-06-21        70.13       3.626    4989.34     385.31   \n",
              "\n",
              "      MarkDown3  MarkDown4  MarkDown5         CPI  Unemployment  IsHoliday  \n",
              "0           NaN        NaN        NaN  211.096358         8.106      False  \n",
              "1           NaN        NaN        NaN  211.242170         8.106       True  \n",
              "2           NaN        NaN        NaN  211.289143         8.106      False  \n",
              "3           NaN        NaN        NaN  211.319643         8.106      False  \n",
              "4           NaN        NaN        NaN  211.350143         8.106      False  \n",
              "...         ...        ...        ...         ...           ...        ...  \n",
              "8180      58.48    1183.23    1309.30         NaN           NaN      False  \n",
              "8181      77.06       9.38    4227.27         NaN           NaN      False  \n",
              "8182      80.00    4825.71    3597.34         NaN           NaN      False  \n",
              "8183     348.54    2612.33    3459.39         NaN           NaN      False  \n",
              "8184     178.56    2463.42    3117.94         NaN           NaN      False  \n",
              "\n",
              "[8185 rows x 12 columns]"
            ],
            "text/html": [
              "\n",
              "  <div id=\"df-14144ded-d875-4b25-92f6-563a2fa46e0b\">\n",
              "    <div class=\"colab-df-container\">\n",
              "      <div>\n",
              "<style scoped>\n",
              "    .dataframe tbody tr th:only-of-type {\n",
              "        vertical-align: middle;\n",
              "    }\n",
              "\n",
              "    .dataframe tbody tr th {\n",
              "        vertical-align: top;\n",
              "    }\n",
              "\n",
              "    .dataframe thead th {\n",
              "        text-align: right;\n",
              "    }\n",
              "</style>\n",
              "<table border=\"1\" class=\"dataframe\">\n",
              "  <thead>\n",
              "    <tr style=\"text-align: right;\">\n",
              "      <th></th>\n",
              "      <th>Store</th>\n",
              "      <th>Date</th>\n",
              "      <th>Temperature</th>\n",
              "      <th>Fuel_Price</th>\n",
              "      <th>MarkDown1</th>\n",
              "      <th>MarkDown2</th>\n",
              "      <th>MarkDown3</th>\n",
              "      <th>MarkDown4</th>\n",
              "      <th>MarkDown5</th>\n",
              "      <th>CPI</th>\n",
              "      <th>Unemployment</th>\n",
              "      <th>IsHoliday</th>\n",
              "    </tr>\n",
              "  </thead>\n",
              "  <tbody>\n",
              "    <tr>\n",
              "      <th>0</th>\n",
              "      <td>1</td>\n",
              "      <td>2010-02-05</td>\n",
              "      <td>42.31</td>\n",
              "      <td>2.572</td>\n",
              "      <td>NaN</td>\n",
              "      <td>NaN</td>\n",
              "      <td>NaN</td>\n",
              "      <td>NaN</td>\n",
              "      <td>NaN</td>\n",
              "      <td>211.096358</td>\n",
              "      <td>8.106</td>\n",
              "      <td>False</td>\n",
              "    </tr>\n",
              "    <tr>\n",
              "      <th>1</th>\n",
              "      <td>1</td>\n",
              "      <td>2010-02-12</td>\n",
              "      <td>38.51</td>\n",
              "      <td>2.548</td>\n",
              "      <td>NaN</td>\n",
              "      <td>NaN</td>\n",
              "      <td>NaN</td>\n",
              "      <td>NaN</td>\n",
              "      <td>NaN</td>\n",
              "      <td>211.242170</td>\n",
              "      <td>8.106</td>\n",
              "      <td>True</td>\n",
              "    </tr>\n",
              "    <tr>\n",
              "      <th>2</th>\n",
              "      <td>1</td>\n",
              "      <td>2010-02-19</td>\n",
              "      <td>39.93</td>\n",
              "      <td>2.514</td>\n",
              "      <td>NaN</td>\n",
              "      <td>NaN</td>\n",
              "      <td>NaN</td>\n",
              "      <td>NaN</td>\n",
              "      <td>NaN</td>\n",
              "      <td>211.289143</td>\n",
              "      <td>8.106</td>\n",
              "      <td>False</td>\n",
              "    </tr>\n",
              "    <tr>\n",
              "      <th>3</th>\n",
              "      <td>1</td>\n",
              "      <td>2010-02-26</td>\n",
              "      <td>46.63</td>\n",
              "      <td>2.561</td>\n",
              "      <td>NaN</td>\n",
              "      <td>NaN</td>\n",
              "      <td>NaN</td>\n",
              "      <td>NaN</td>\n",
              "      <td>NaN</td>\n",
              "      <td>211.319643</td>\n",
              "      <td>8.106</td>\n",
              "      <td>False</td>\n",
              "    </tr>\n",
              "    <tr>\n",
              "      <th>4</th>\n",
              "      <td>1</td>\n",
              "      <td>2010-03-05</td>\n",
              "      <td>46.50</td>\n",
              "      <td>2.625</td>\n",
              "      <td>NaN</td>\n",
              "      <td>NaN</td>\n",
              "      <td>NaN</td>\n",
              "      <td>NaN</td>\n",
              "      <td>NaN</td>\n",
              "      <td>211.350143</td>\n",
              "      <td>8.106</td>\n",
              "      <td>False</td>\n",
              "    </tr>\n",
              "    <tr>\n",
              "      <th>...</th>\n",
              "      <td>...</td>\n",
              "      <td>...</td>\n",
              "      <td>...</td>\n",
              "      <td>...</td>\n",
              "      <td>...</td>\n",
              "      <td>...</td>\n",
              "      <td>...</td>\n",
              "      <td>...</td>\n",
              "      <td>...</td>\n",
              "      <td>...</td>\n",
              "      <td>...</td>\n",
              "      <td>...</td>\n",
              "    </tr>\n",
              "    <tr>\n",
              "      <th>8180</th>\n",
              "      <td>45</td>\n",
              "      <td>2013-05-24</td>\n",
              "      <td>67.11</td>\n",
              "      <td>3.627</td>\n",
              "      <td>3249.34</td>\n",
              "      <td>481.82</td>\n",
              "      <td>58.48</td>\n",
              "      <td>1183.23</td>\n",
              "      <td>1309.30</td>\n",
              "      <td>NaN</td>\n",
              "      <td>NaN</td>\n",
              "      <td>False</td>\n",
              "    </tr>\n",
              "    <tr>\n",
              "      <th>8181</th>\n",
              "      <td>45</td>\n",
              "      <td>2013-05-31</td>\n",
              "      <td>65.88</td>\n",
              "      <td>3.646</td>\n",
              "      <td>6474.49</td>\n",
              "      <td>411.38</td>\n",
              "      <td>77.06</td>\n",
              "      <td>9.38</td>\n",
              "      <td>4227.27</td>\n",
              "      <td>NaN</td>\n",
              "      <td>NaN</td>\n",
              "      <td>False</td>\n",
              "    </tr>\n",
              "    <tr>\n",
              "      <th>8182</th>\n",
              "      <td>45</td>\n",
              "      <td>2013-06-07</td>\n",
              "      <td>70.71</td>\n",
              "      <td>3.633</td>\n",
              "      <td>9977.82</td>\n",
              "      <td>744.29</td>\n",
              "      <td>80.00</td>\n",
              "      <td>4825.71</td>\n",
              "      <td>3597.34</td>\n",
              "      <td>NaN</td>\n",
              "      <td>NaN</td>\n",
              "      <td>False</td>\n",
              "    </tr>\n",
              "    <tr>\n",
              "      <th>8183</th>\n",
              "      <td>45</td>\n",
              "      <td>2013-06-14</td>\n",
              "      <td>70.01</td>\n",
              "      <td>3.632</td>\n",
              "      <td>2471.44</td>\n",
              "      <td>517.87</td>\n",
              "      <td>348.54</td>\n",
              "      <td>2612.33</td>\n",
              "      <td>3459.39</td>\n",
              "      <td>NaN</td>\n",
              "      <td>NaN</td>\n",
              "      <td>False</td>\n",
              "    </tr>\n",
              "    <tr>\n",
              "      <th>8184</th>\n",
              "      <td>45</td>\n",
              "      <td>2013-06-21</td>\n",
              "      <td>70.13</td>\n",
              "      <td>3.626</td>\n",
              "      <td>4989.34</td>\n",
              "      <td>385.31</td>\n",
              "      <td>178.56</td>\n",
              "      <td>2463.42</td>\n",
              "      <td>3117.94</td>\n",
              "      <td>NaN</td>\n",
              "      <td>NaN</td>\n",
              "      <td>False</td>\n",
              "    </tr>\n",
              "  </tbody>\n",
              "</table>\n",
              "<p>8185 rows × 12 columns</p>\n",
              "</div>\n",
              "      <button class=\"colab-df-convert\" onclick=\"convertToInteractive('df-14144ded-d875-4b25-92f6-563a2fa46e0b')\"\n",
              "              title=\"Convert this dataframe to an interactive table.\"\n",
              "              style=\"display:none;\">\n",
              "        \n",
              "  <svg xmlns=\"http://www.w3.org/2000/svg\" height=\"24px\"viewBox=\"0 0 24 24\"\n",
              "       width=\"24px\">\n",
              "    <path d=\"M0 0h24v24H0V0z\" fill=\"none\"/>\n",
              "    <path d=\"M18.56 5.44l.94 2.06.94-2.06 2.06-.94-2.06-.94-.94-2.06-.94 2.06-2.06.94zm-11 1L8.5 8.5l.94-2.06 2.06-.94-2.06-.94L8.5 2.5l-.94 2.06-2.06.94zm10 10l.94 2.06.94-2.06 2.06-.94-2.06-.94-.94-2.06-.94 2.06-2.06.94z\"/><path d=\"M17.41 7.96l-1.37-1.37c-.4-.4-.92-.59-1.43-.59-.52 0-1.04.2-1.43.59L10.3 9.45l-7.72 7.72c-.78.78-.78 2.05 0 2.83L4 21.41c.39.39.9.59 1.41.59.51 0 1.02-.2 1.41-.59l7.78-7.78 2.81-2.81c.8-.78.8-2.07 0-2.86zM5.41 20L4 18.59l7.72-7.72 1.47 1.35L5.41 20z\"/>\n",
              "  </svg>\n",
              "      </button>\n",
              "      \n",
              "  <style>\n",
              "    .colab-df-container {\n",
              "      display:flex;\n",
              "      flex-wrap:wrap;\n",
              "      gap: 12px;\n",
              "    }\n",
              "\n",
              "    .colab-df-convert {\n",
              "      background-color: #E8F0FE;\n",
              "      border: none;\n",
              "      border-radius: 50%;\n",
              "      cursor: pointer;\n",
              "      display: none;\n",
              "      fill: #1967D2;\n",
              "      height: 32px;\n",
              "      padding: 0 0 0 0;\n",
              "      width: 32px;\n",
              "    }\n",
              "\n",
              "    .colab-df-convert:hover {\n",
              "      background-color: #E2EBFA;\n",
              "      box-shadow: 0px 1px 2px rgba(60, 64, 67, 0.3), 0px 1px 3px 1px rgba(60, 64, 67, 0.15);\n",
              "      fill: #174EA6;\n",
              "    }\n",
              "\n",
              "    [theme=dark] .colab-df-convert {\n",
              "      background-color: #3B4455;\n",
              "      fill: #D2E3FC;\n",
              "    }\n",
              "\n",
              "    [theme=dark] .colab-df-convert:hover {\n",
              "      background-color: #434B5C;\n",
              "      box-shadow: 0px 1px 3px 1px rgba(0, 0, 0, 0.15);\n",
              "      filter: drop-shadow(0px 1px 2px rgba(0, 0, 0, 0.3));\n",
              "      fill: #FFFFFF;\n",
              "    }\n",
              "  </style>\n",
              "\n",
              "      <script>\n",
              "        const buttonEl =\n",
              "          document.querySelector('#df-14144ded-d875-4b25-92f6-563a2fa46e0b button.colab-df-convert');\n",
              "        buttonEl.style.display =\n",
              "          google.colab.kernel.accessAllowed ? 'block' : 'none';\n",
              "\n",
              "        async function convertToInteractive(key) {\n",
              "          const element = document.querySelector('#df-14144ded-d875-4b25-92f6-563a2fa46e0b');\n",
              "          const dataTable =\n",
              "            await google.colab.kernel.invokeFunction('convertToInteractive',\n",
              "                                                     [key], {});\n",
              "          if (!dataTable) return;\n",
              "\n",
              "          const docLinkHtml = 'Like what you see? Visit the ' +\n",
              "            '<a target=\"_blank\" href=https://colab.research.google.com/notebooks/data_table.ipynb>data table notebook</a>'\n",
              "            + ' to learn more about interactive tables.';\n",
              "          element.innerHTML = '';\n",
              "          dataTable['output_type'] = 'display_data';\n",
              "          await google.colab.output.renderOutput(dataTable, element);\n",
              "          const docLink = document.createElement('div');\n",
              "          docLink.innerHTML = docLinkHtml;\n",
              "          element.appendChild(docLink);\n",
              "        }\n",
              "      </script>\n",
              "    </div>\n",
              "  </div>\n",
              "  "
            ]
          },
          "metadata": {},
          "execution_count": 7
        }
      ]
    },
    {
      "cell_type": "code",
      "source": [
        "train = pd.read_csv('/content/train.csv')\n",
        "test = pd.read_csv('/content/test.csv')"
      ],
      "metadata": {
        "id": "AqPQ3da3Qx6x"
      },
      "execution_count": null,
      "outputs": []
    },
    {
      "cell_type": "code",
      "source": [
        "train.head(5)"
      ],
      "metadata": {
        "colab": {
          "base_uri": "https://localhost:8080/",
          "height": 206
        },
        "id": "988XogwTQxjL",
        "outputId": "6b856bb0-8b4a-40e1-febb-0cb4e3997fb0"
      },
      "execution_count": null,
      "outputs": [
        {
          "output_type": "execute_result",
          "data": {
            "text/plain": [
              "   Store  Dept        Date  Weekly_Sales  IsHoliday\n",
              "0      1     1  2010-02-05      24924.50      False\n",
              "1      1     1  2010-02-12      46039.49       True\n",
              "2      1     1  2010-02-19      41595.55      False\n",
              "3      1     1  2010-02-26      19403.54      False\n",
              "4      1     1  2010-03-05      21827.90      False"
            ],
            "text/html": [
              "\n",
              "  <div id=\"df-58e60e13-12c7-4ffc-bb9e-d267949d4aeb\">\n",
              "    <div class=\"colab-df-container\">\n",
              "      <div>\n",
              "<style scoped>\n",
              "    .dataframe tbody tr th:only-of-type {\n",
              "        vertical-align: middle;\n",
              "    }\n",
              "\n",
              "    .dataframe tbody tr th {\n",
              "        vertical-align: top;\n",
              "    }\n",
              "\n",
              "    .dataframe thead th {\n",
              "        text-align: right;\n",
              "    }\n",
              "</style>\n",
              "<table border=\"1\" class=\"dataframe\">\n",
              "  <thead>\n",
              "    <tr style=\"text-align: right;\">\n",
              "      <th></th>\n",
              "      <th>Store</th>\n",
              "      <th>Dept</th>\n",
              "      <th>Date</th>\n",
              "      <th>Weekly_Sales</th>\n",
              "      <th>IsHoliday</th>\n",
              "    </tr>\n",
              "  </thead>\n",
              "  <tbody>\n",
              "    <tr>\n",
              "      <th>0</th>\n",
              "      <td>1</td>\n",
              "      <td>1</td>\n",
              "      <td>2010-02-05</td>\n",
              "      <td>24924.50</td>\n",
              "      <td>False</td>\n",
              "    </tr>\n",
              "    <tr>\n",
              "      <th>1</th>\n",
              "      <td>1</td>\n",
              "      <td>1</td>\n",
              "      <td>2010-02-12</td>\n",
              "      <td>46039.49</td>\n",
              "      <td>True</td>\n",
              "    </tr>\n",
              "    <tr>\n",
              "      <th>2</th>\n",
              "      <td>1</td>\n",
              "      <td>1</td>\n",
              "      <td>2010-02-19</td>\n",
              "      <td>41595.55</td>\n",
              "      <td>False</td>\n",
              "    </tr>\n",
              "    <tr>\n",
              "      <th>3</th>\n",
              "      <td>1</td>\n",
              "      <td>1</td>\n",
              "      <td>2010-02-26</td>\n",
              "      <td>19403.54</td>\n",
              "      <td>False</td>\n",
              "    </tr>\n",
              "    <tr>\n",
              "      <th>4</th>\n",
              "      <td>1</td>\n",
              "      <td>1</td>\n",
              "      <td>2010-03-05</td>\n",
              "      <td>21827.90</td>\n",
              "      <td>False</td>\n",
              "    </tr>\n",
              "  </tbody>\n",
              "</table>\n",
              "</div>\n",
              "      <button class=\"colab-df-convert\" onclick=\"convertToInteractive('df-58e60e13-12c7-4ffc-bb9e-d267949d4aeb')\"\n",
              "              title=\"Convert this dataframe to an interactive table.\"\n",
              "              style=\"display:none;\">\n",
              "        \n",
              "  <svg xmlns=\"http://www.w3.org/2000/svg\" height=\"24px\"viewBox=\"0 0 24 24\"\n",
              "       width=\"24px\">\n",
              "    <path d=\"M0 0h24v24H0V0z\" fill=\"none\"/>\n",
              "    <path d=\"M18.56 5.44l.94 2.06.94-2.06 2.06-.94-2.06-.94-.94-2.06-.94 2.06-2.06.94zm-11 1L8.5 8.5l.94-2.06 2.06-.94-2.06-.94L8.5 2.5l-.94 2.06-2.06.94zm10 10l.94 2.06.94-2.06 2.06-.94-2.06-.94-.94-2.06-.94 2.06-2.06.94z\"/><path d=\"M17.41 7.96l-1.37-1.37c-.4-.4-.92-.59-1.43-.59-.52 0-1.04.2-1.43.59L10.3 9.45l-7.72 7.72c-.78.78-.78 2.05 0 2.83L4 21.41c.39.39.9.59 1.41.59.51 0 1.02-.2 1.41-.59l7.78-7.78 2.81-2.81c.8-.78.8-2.07 0-2.86zM5.41 20L4 18.59l7.72-7.72 1.47 1.35L5.41 20z\"/>\n",
              "  </svg>\n",
              "      </button>\n",
              "      \n",
              "  <style>\n",
              "    .colab-df-container {\n",
              "      display:flex;\n",
              "      flex-wrap:wrap;\n",
              "      gap: 12px;\n",
              "    }\n",
              "\n",
              "    .colab-df-convert {\n",
              "      background-color: #E8F0FE;\n",
              "      border: none;\n",
              "      border-radius: 50%;\n",
              "      cursor: pointer;\n",
              "      display: none;\n",
              "      fill: #1967D2;\n",
              "      height: 32px;\n",
              "      padding: 0 0 0 0;\n",
              "      width: 32px;\n",
              "    }\n",
              "\n",
              "    .colab-df-convert:hover {\n",
              "      background-color: #E2EBFA;\n",
              "      box-shadow: 0px 1px 2px rgba(60, 64, 67, 0.3), 0px 1px 3px 1px rgba(60, 64, 67, 0.15);\n",
              "      fill: #174EA6;\n",
              "    }\n",
              "\n",
              "    [theme=dark] .colab-df-convert {\n",
              "      background-color: #3B4455;\n",
              "      fill: #D2E3FC;\n",
              "    }\n",
              "\n",
              "    [theme=dark] .colab-df-convert:hover {\n",
              "      background-color: #434B5C;\n",
              "      box-shadow: 0px 1px 3px 1px rgba(0, 0, 0, 0.15);\n",
              "      filter: drop-shadow(0px 1px 2px rgba(0, 0, 0, 0.3));\n",
              "      fill: #FFFFFF;\n",
              "    }\n",
              "  </style>\n",
              "\n",
              "      <script>\n",
              "        const buttonEl =\n",
              "          document.querySelector('#df-58e60e13-12c7-4ffc-bb9e-d267949d4aeb button.colab-df-convert');\n",
              "        buttonEl.style.display =\n",
              "          google.colab.kernel.accessAllowed ? 'block' : 'none';\n",
              "\n",
              "        async function convertToInteractive(key) {\n",
              "          const element = document.querySelector('#df-58e60e13-12c7-4ffc-bb9e-d267949d4aeb');\n",
              "          const dataTable =\n",
              "            await google.colab.kernel.invokeFunction('convertToInteractive',\n",
              "                                                     [key], {});\n",
              "          if (!dataTable) return;\n",
              "\n",
              "          const docLinkHtml = 'Like what you see? Visit the ' +\n",
              "            '<a target=\"_blank\" href=https://colab.research.google.com/notebooks/data_table.ipynb>data table notebook</a>'\n",
              "            + ' to learn more about interactive tables.';\n",
              "          element.innerHTML = '';\n",
              "          dataTable['output_type'] = 'display_data';\n",
              "          await google.colab.output.renderOutput(dataTable, element);\n",
              "          const docLink = document.createElement('div');\n",
              "          docLink.innerHTML = docLinkHtml;\n",
              "          element.appendChild(docLink);\n",
              "        }\n",
              "      </script>\n",
              "    </div>\n",
              "  </div>\n",
              "  "
            ]
          },
          "metadata": {},
          "execution_count": 9
        }
      ]
    },
    {
      "cell_type": "code",
      "source": [
        "test.head(5)"
      ],
      "metadata": {
        "colab": {
          "base_uri": "https://localhost:8080/",
          "height": 206
        },
        "id": "19_HrX59Qxfs",
        "outputId": "3186baf7-1727-41f0-b286-8727b52e438d"
      },
      "execution_count": null,
      "outputs": [
        {
          "output_type": "execute_result",
          "data": {
            "text/plain": [
              "   Store  Dept        Date  IsHoliday\n",
              "0      1     1  2012-11-02      False\n",
              "1      1     1  2012-11-09      False\n",
              "2      1     1  2012-11-16      False\n",
              "3      1     1  2012-11-23       True\n",
              "4      1     1  2012-11-30      False"
            ],
            "text/html": [
              "\n",
              "  <div id=\"df-55ff245f-0342-4948-bc4e-40349c80972e\">\n",
              "    <div class=\"colab-df-container\">\n",
              "      <div>\n",
              "<style scoped>\n",
              "    .dataframe tbody tr th:only-of-type {\n",
              "        vertical-align: middle;\n",
              "    }\n",
              "\n",
              "    .dataframe tbody tr th {\n",
              "        vertical-align: top;\n",
              "    }\n",
              "\n",
              "    .dataframe thead th {\n",
              "        text-align: right;\n",
              "    }\n",
              "</style>\n",
              "<table border=\"1\" class=\"dataframe\">\n",
              "  <thead>\n",
              "    <tr style=\"text-align: right;\">\n",
              "      <th></th>\n",
              "      <th>Store</th>\n",
              "      <th>Dept</th>\n",
              "      <th>Date</th>\n",
              "      <th>IsHoliday</th>\n",
              "    </tr>\n",
              "  </thead>\n",
              "  <tbody>\n",
              "    <tr>\n",
              "      <th>0</th>\n",
              "      <td>1</td>\n",
              "      <td>1</td>\n",
              "      <td>2012-11-02</td>\n",
              "      <td>False</td>\n",
              "    </tr>\n",
              "    <tr>\n",
              "      <th>1</th>\n",
              "      <td>1</td>\n",
              "      <td>1</td>\n",
              "      <td>2012-11-09</td>\n",
              "      <td>False</td>\n",
              "    </tr>\n",
              "    <tr>\n",
              "      <th>2</th>\n",
              "      <td>1</td>\n",
              "      <td>1</td>\n",
              "      <td>2012-11-16</td>\n",
              "      <td>False</td>\n",
              "    </tr>\n",
              "    <tr>\n",
              "      <th>3</th>\n",
              "      <td>1</td>\n",
              "      <td>1</td>\n",
              "      <td>2012-11-23</td>\n",
              "      <td>True</td>\n",
              "    </tr>\n",
              "    <tr>\n",
              "      <th>4</th>\n",
              "      <td>1</td>\n",
              "      <td>1</td>\n",
              "      <td>2012-11-30</td>\n",
              "      <td>False</td>\n",
              "    </tr>\n",
              "  </tbody>\n",
              "</table>\n",
              "</div>\n",
              "      <button class=\"colab-df-convert\" onclick=\"convertToInteractive('df-55ff245f-0342-4948-bc4e-40349c80972e')\"\n",
              "              title=\"Convert this dataframe to an interactive table.\"\n",
              "              style=\"display:none;\">\n",
              "        \n",
              "  <svg xmlns=\"http://www.w3.org/2000/svg\" height=\"24px\"viewBox=\"0 0 24 24\"\n",
              "       width=\"24px\">\n",
              "    <path d=\"M0 0h24v24H0V0z\" fill=\"none\"/>\n",
              "    <path d=\"M18.56 5.44l.94 2.06.94-2.06 2.06-.94-2.06-.94-.94-2.06-.94 2.06-2.06.94zm-11 1L8.5 8.5l.94-2.06 2.06-.94-2.06-.94L8.5 2.5l-.94 2.06-2.06.94zm10 10l.94 2.06.94-2.06 2.06-.94-2.06-.94-.94-2.06-.94 2.06-2.06.94z\"/><path d=\"M17.41 7.96l-1.37-1.37c-.4-.4-.92-.59-1.43-.59-.52 0-1.04.2-1.43.59L10.3 9.45l-7.72 7.72c-.78.78-.78 2.05 0 2.83L4 21.41c.39.39.9.59 1.41.59.51 0 1.02-.2 1.41-.59l7.78-7.78 2.81-2.81c.8-.78.8-2.07 0-2.86zM5.41 20L4 18.59l7.72-7.72 1.47 1.35L5.41 20z\"/>\n",
              "  </svg>\n",
              "      </button>\n",
              "      \n",
              "  <style>\n",
              "    .colab-df-container {\n",
              "      display:flex;\n",
              "      flex-wrap:wrap;\n",
              "      gap: 12px;\n",
              "    }\n",
              "\n",
              "    .colab-df-convert {\n",
              "      background-color: #E8F0FE;\n",
              "      border: none;\n",
              "      border-radius: 50%;\n",
              "      cursor: pointer;\n",
              "      display: none;\n",
              "      fill: #1967D2;\n",
              "      height: 32px;\n",
              "      padding: 0 0 0 0;\n",
              "      width: 32px;\n",
              "    }\n",
              "\n",
              "    .colab-df-convert:hover {\n",
              "      background-color: #E2EBFA;\n",
              "      box-shadow: 0px 1px 2px rgba(60, 64, 67, 0.3), 0px 1px 3px 1px rgba(60, 64, 67, 0.15);\n",
              "      fill: #174EA6;\n",
              "    }\n",
              "\n",
              "    [theme=dark] .colab-df-convert {\n",
              "      background-color: #3B4455;\n",
              "      fill: #D2E3FC;\n",
              "    }\n",
              "\n",
              "    [theme=dark] .colab-df-convert:hover {\n",
              "      background-color: #434B5C;\n",
              "      box-shadow: 0px 1px 3px 1px rgba(0, 0, 0, 0.15);\n",
              "      filter: drop-shadow(0px 1px 2px rgba(0, 0, 0, 0.3));\n",
              "      fill: #FFFFFF;\n",
              "    }\n",
              "  </style>\n",
              "\n",
              "      <script>\n",
              "        const buttonEl =\n",
              "          document.querySelector('#df-55ff245f-0342-4948-bc4e-40349c80972e button.colab-df-convert');\n",
              "        buttonEl.style.display =\n",
              "          google.colab.kernel.accessAllowed ? 'block' : 'none';\n",
              "\n",
              "        async function convertToInteractive(key) {\n",
              "          const element = document.querySelector('#df-55ff245f-0342-4948-bc4e-40349c80972e');\n",
              "          const dataTable =\n",
              "            await google.colab.kernel.invokeFunction('convertToInteractive',\n",
              "                                                     [key], {});\n",
              "          if (!dataTable) return;\n",
              "\n",
              "          const docLinkHtml = 'Like what you see? Visit the ' +\n",
              "            '<a target=\"_blank\" href=https://colab.research.google.com/notebooks/data_table.ipynb>data table notebook</a>'\n",
              "            + ' to learn more about interactive tables.';\n",
              "          element.innerHTML = '';\n",
              "          dataTable['output_type'] = 'display_data';\n",
              "          await google.colab.output.renderOutput(dataTable, element);\n",
              "          const docLink = document.createElement('div');\n",
              "          docLink.innerHTML = docLinkHtml;\n",
              "          element.appendChild(docLink);\n",
              "        }\n",
              "      </script>\n",
              "    </div>\n",
              "  </div>\n",
              "  "
            ]
          },
          "metadata": {},
          "execution_count": 10
        }
      ]
    },
    {
      "cell_type": "code",
      "source": [
        "train['Store'].nunique()"
      ],
      "metadata": {
        "colab": {
          "base_uri": "https://localhost:8080/"
        },
        "id": "dhRRQa3OZVNF",
        "outputId": "0506e9fe-0f75-45b5-d1d2-c4d390309aca"
      },
      "execution_count": null,
      "outputs": [
        {
          "output_type": "execute_result",
          "data": {
            "text/plain": [
              "45"
            ]
          },
          "metadata": {},
          "execution_count": 11
        }
      ]
    },
    {
      "cell_type": "code",
      "source": [
        "train['Dept'].nunique()"
      ],
      "metadata": {
        "colab": {
          "base_uri": "https://localhost:8080/"
        },
        "id": "y9yuQ6HqQxb_",
        "outputId": "b1b32338-2b8c-4167-b898-d750d53f56b8"
      },
      "execution_count": null,
      "outputs": [
        {
          "output_type": "execute_result",
          "data": {
            "text/plain": [
              "81"
            ]
          },
          "metadata": {},
          "execution_count": 12
        }
      ]
    },
    {
      "cell_type": "code",
      "source": [
        "# merging 3 different sets\n",
        "df = train.merge(df_features, on=['Store', 'Date'], how='inner').merge(df_store, on=['Store'], how='inner')\n",
        "df.head(5)"
      ],
      "metadata": {
        "colab": {
          "base_uri": "https://localhost:8080/",
          "height": 357
        },
        "id": "mdJ_EphTQxY-",
        "outputId": "998040c3-434a-47b5-b3c9-8bf14ee7b9a4"
      },
      "execution_count": null,
      "outputs": [
        {
          "output_type": "execute_result",
          "data": {
            "text/plain": [
              "   Store  Dept        Date  Weekly_Sales  IsHoliday_x  Temperature  \\\n",
              "0      1     1  2010-02-05      24924.50        False        42.31   \n",
              "1      1     2  2010-02-05      50605.27        False        42.31   \n",
              "2      1     3  2010-02-05      13740.12        False        42.31   \n",
              "3      1     4  2010-02-05      39954.04        False        42.31   \n",
              "4      1     5  2010-02-05      32229.38        False        42.31   \n",
              "\n",
              "   Fuel_Price  MarkDown1  MarkDown2  MarkDown3  MarkDown4  MarkDown5  \\\n",
              "0       2.572        NaN        NaN        NaN        NaN        NaN   \n",
              "1       2.572        NaN        NaN        NaN        NaN        NaN   \n",
              "2       2.572        NaN        NaN        NaN        NaN        NaN   \n",
              "3       2.572        NaN        NaN        NaN        NaN        NaN   \n",
              "4       2.572        NaN        NaN        NaN        NaN        NaN   \n",
              "\n",
              "          CPI  Unemployment  IsHoliday_y Type    Size  \n",
              "0  211.096358         8.106        False    A  151315  \n",
              "1  211.096358         8.106        False    A  151315  \n",
              "2  211.096358         8.106        False    A  151315  \n",
              "3  211.096358         8.106        False    A  151315  \n",
              "4  211.096358         8.106        False    A  151315  "
            ],
            "text/html": [
              "\n",
              "  <div id=\"df-8c237365-4e19-43cf-b43d-4caa5e94ebc0\">\n",
              "    <div class=\"colab-df-container\">\n",
              "      <div>\n",
              "<style scoped>\n",
              "    .dataframe tbody tr th:only-of-type {\n",
              "        vertical-align: middle;\n",
              "    }\n",
              "\n",
              "    .dataframe tbody tr th {\n",
              "        vertical-align: top;\n",
              "    }\n",
              "\n",
              "    .dataframe thead th {\n",
              "        text-align: right;\n",
              "    }\n",
              "</style>\n",
              "<table border=\"1\" class=\"dataframe\">\n",
              "  <thead>\n",
              "    <tr style=\"text-align: right;\">\n",
              "      <th></th>\n",
              "      <th>Store</th>\n",
              "      <th>Dept</th>\n",
              "      <th>Date</th>\n",
              "      <th>Weekly_Sales</th>\n",
              "      <th>IsHoliday_x</th>\n",
              "      <th>Temperature</th>\n",
              "      <th>Fuel_Price</th>\n",
              "      <th>MarkDown1</th>\n",
              "      <th>MarkDown2</th>\n",
              "      <th>MarkDown3</th>\n",
              "      <th>MarkDown4</th>\n",
              "      <th>MarkDown5</th>\n",
              "      <th>CPI</th>\n",
              "      <th>Unemployment</th>\n",
              "      <th>IsHoliday_y</th>\n",
              "      <th>Type</th>\n",
              "      <th>Size</th>\n",
              "    </tr>\n",
              "  </thead>\n",
              "  <tbody>\n",
              "    <tr>\n",
              "      <th>0</th>\n",
              "      <td>1</td>\n",
              "      <td>1</td>\n",
              "      <td>2010-02-05</td>\n",
              "      <td>24924.50</td>\n",
              "      <td>False</td>\n",
              "      <td>42.31</td>\n",
              "      <td>2.572</td>\n",
              "      <td>NaN</td>\n",
              "      <td>NaN</td>\n",
              "      <td>NaN</td>\n",
              "      <td>NaN</td>\n",
              "      <td>NaN</td>\n",
              "      <td>211.096358</td>\n",
              "      <td>8.106</td>\n",
              "      <td>False</td>\n",
              "      <td>A</td>\n",
              "      <td>151315</td>\n",
              "    </tr>\n",
              "    <tr>\n",
              "      <th>1</th>\n",
              "      <td>1</td>\n",
              "      <td>2</td>\n",
              "      <td>2010-02-05</td>\n",
              "      <td>50605.27</td>\n",
              "      <td>False</td>\n",
              "      <td>42.31</td>\n",
              "      <td>2.572</td>\n",
              "      <td>NaN</td>\n",
              "      <td>NaN</td>\n",
              "      <td>NaN</td>\n",
              "      <td>NaN</td>\n",
              "      <td>NaN</td>\n",
              "      <td>211.096358</td>\n",
              "      <td>8.106</td>\n",
              "      <td>False</td>\n",
              "      <td>A</td>\n",
              "      <td>151315</td>\n",
              "    </tr>\n",
              "    <tr>\n",
              "      <th>2</th>\n",
              "      <td>1</td>\n",
              "      <td>3</td>\n",
              "      <td>2010-02-05</td>\n",
              "      <td>13740.12</td>\n",
              "      <td>False</td>\n",
              "      <td>42.31</td>\n",
              "      <td>2.572</td>\n",
              "      <td>NaN</td>\n",
              "      <td>NaN</td>\n",
              "      <td>NaN</td>\n",
              "      <td>NaN</td>\n",
              "      <td>NaN</td>\n",
              "      <td>211.096358</td>\n",
              "      <td>8.106</td>\n",
              "      <td>False</td>\n",
              "      <td>A</td>\n",
              "      <td>151315</td>\n",
              "    </tr>\n",
              "    <tr>\n",
              "      <th>3</th>\n",
              "      <td>1</td>\n",
              "      <td>4</td>\n",
              "      <td>2010-02-05</td>\n",
              "      <td>39954.04</td>\n",
              "      <td>False</td>\n",
              "      <td>42.31</td>\n",
              "      <td>2.572</td>\n",
              "      <td>NaN</td>\n",
              "      <td>NaN</td>\n",
              "      <td>NaN</td>\n",
              "      <td>NaN</td>\n",
              "      <td>NaN</td>\n",
              "      <td>211.096358</td>\n",
              "      <td>8.106</td>\n",
              "      <td>False</td>\n",
              "      <td>A</td>\n",
              "      <td>151315</td>\n",
              "    </tr>\n",
              "    <tr>\n",
              "      <th>4</th>\n",
              "      <td>1</td>\n",
              "      <td>5</td>\n",
              "      <td>2010-02-05</td>\n",
              "      <td>32229.38</td>\n",
              "      <td>False</td>\n",
              "      <td>42.31</td>\n",
              "      <td>2.572</td>\n",
              "      <td>NaN</td>\n",
              "      <td>NaN</td>\n",
              "      <td>NaN</td>\n",
              "      <td>NaN</td>\n",
              "      <td>NaN</td>\n",
              "      <td>211.096358</td>\n",
              "      <td>8.106</td>\n",
              "      <td>False</td>\n",
              "      <td>A</td>\n",
              "      <td>151315</td>\n",
              "    </tr>\n",
              "  </tbody>\n",
              "</table>\n",
              "</div>\n",
              "      <button class=\"colab-df-convert\" onclick=\"convertToInteractive('df-8c237365-4e19-43cf-b43d-4caa5e94ebc0')\"\n",
              "              title=\"Convert this dataframe to an interactive table.\"\n",
              "              style=\"display:none;\">\n",
              "        \n",
              "  <svg xmlns=\"http://www.w3.org/2000/svg\" height=\"24px\"viewBox=\"0 0 24 24\"\n",
              "       width=\"24px\">\n",
              "    <path d=\"M0 0h24v24H0V0z\" fill=\"none\"/>\n",
              "    <path d=\"M18.56 5.44l.94 2.06.94-2.06 2.06-.94-2.06-.94-.94-2.06-.94 2.06-2.06.94zm-11 1L8.5 8.5l.94-2.06 2.06-.94-2.06-.94L8.5 2.5l-.94 2.06-2.06.94zm10 10l.94 2.06.94-2.06 2.06-.94-2.06-.94-.94-2.06-.94 2.06-2.06.94z\"/><path d=\"M17.41 7.96l-1.37-1.37c-.4-.4-.92-.59-1.43-.59-.52 0-1.04.2-1.43.59L10.3 9.45l-7.72 7.72c-.78.78-.78 2.05 0 2.83L4 21.41c.39.39.9.59 1.41.59.51 0 1.02-.2 1.41-.59l7.78-7.78 2.81-2.81c.8-.78.8-2.07 0-2.86zM5.41 20L4 18.59l7.72-7.72 1.47 1.35L5.41 20z\"/>\n",
              "  </svg>\n",
              "      </button>\n",
              "      \n",
              "  <style>\n",
              "    .colab-df-container {\n",
              "      display:flex;\n",
              "      flex-wrap:wrap;\n",
              "      gap: 12px;\n",
              "    }\n",
              "\n",
              "    .colab-df-convert {\n",
              "      background-color: #E8F0FE;\n",
              "      border: none;\n",
              "      border-radius: 50%;\n",
              "      cursor: pointer;\n",
              "      display: none;\n",
              "      fill: #1967D2;\n",
              "      height: 32px;\n",
              "      padding: 0 0 0 0;\n",
              "      width: 32px;\n",
              "    }\n",
              "\n",
              "    .colab-df-convert:hover {\n",
              "      background-color: #E2EBFA;\n",
              "      box-shadow: 0px 1px 2px rgba(60, 64, 67, 0.3), 0px 1px 3px 1px rgba(60, 64, 67, 0.15);\n",
              "      fill: #174EA6;\n",
              "    }\n",
              "\n",
              "    [theme=dark] .colab-df-convert {\n",
              "      background-color: #3B4455;\n",
              "      fill: #D2E3FC;\n",
              "    }\n",
              "\n",
              "    [theme=dark] .colab-df-convert:hover {\n",
              "      background-color: #434B5C;\n",
              "      box-shadow: 0px 1px 3px 1px rgba(0, 0, 0, 0.15);\n",
              "      filter: drop-shadow(0px 1px 2px rgba(0, 0, 0, 0.3));\n",
              "      fill: #FFFFFF;\n",
              "    }\n",
              "  </style>\n",
              "\n",
              "      <script>\n",
              "        const buttonEl =\n",
              "          document.querySelector('#df-8c237365-4e19-43cf-b43d-4caa5e94ebc0 button.colab-df-convert');\n",
              "        buttonEl.style.display =\n",
              "          google.colab.kernel.accessAllowed ? 'block' : 'none';\n",
              "\n",
              "        async function convertToInteractive(key) {\n",
              "          const element = document.querySelector('#df-8c237365-4e19-43cf-b43d-4caa5e94ebc0');\n",
              "          const dataTable =\n",
              "            await google.colab.kernel.invokeFunction('convertToInteractive',\n",
              "                                                     [key], {});\n",
              "          if (!dataTable) return;\n",
              "\n",
              "          const docLinkHtml = 'Like what you see? Visit the ' +\n",
              "            '<a target=\"_blank\" href=https://colab.research.google.com/notebooks/data_table.ipynb>data table notebook</a>'\n",
              "            + ' to learn more about interactive tables.';\n",
              "          element.innerHTML = '';\n",
              "          dataTable['output_type'] = 'display_data';\n",
              "          await google.colab.output.renderOutput(dataTable, element);\n",
              "          const docLink = document.createElement('div');\n",
              "          docLink.innerHTML = docLinkHtml;\n",
              "          element.appendChild(docLink);\n",
              "        }\n",
              "      </script>\n",
              "    </div>\n",
              "  </div>\n",
              "  "
            ]
          },
          "metadata": {},
          "execution_count": 13
        }
      ]
    },
    {
      "cell_type": "code",
      "source": [
        "df.info()"
      ],
      "metadata": {
        "colab": {
          "base_uri": "https://localhost:8080/"
        },
        "id": "GUFzzxDUeJXU",
        "outputId": "496d5604-63cf-4199-f9da-ed668209def8"
      },
      "execution_count": null,
      "outputs": [
        {
          "output_type": "stream",
          "name": "stdout",
          "text": [
            "<class 'pandas.core.frame.DataFrame'>\n",
            "Int64Index: 421570 entries, 0 to 421569\n",
            "Data columns (total 17 columns):\n",
            " #   Column        Non-Null Count   Dtype  \n",
            "---  ------        --------------   -----  \n",
            " 0   Store         421570 non-null  int64  \n",
            " 1   Dept          421570 non-null  int64  \n",
            " 2   Date          421570 non-null  object \n",
            " 3   Weekly_Sales  421570 non-null  float64\n",
            " 4   IsHoliday_x   421570 non-null  bool   \n",
            " 5   Temperature   421570 non-null  float64\n",
            " 6   Fuel_Price    421570 non-null  float64\n",
            " 7   MarkDown1     150681 non-null  float64\n",
            " 8   MarkDown2     111248 non-null  float64\n",
            " 9   MarkDown3     137091 non-null  float64\n",
            " 10  MarkDown4     134967 non-null  float64\n",
            " 11  MarkDown5     151432 non-null  float64\n",
            " 12  CPI           421570 non-null  float64\n",
            " 13  Unemployment  421570 non-null  float64\n",
            " 14  IsHoliday_y   421570 non-null  bool   \n",
            " 15  Type          421570 non-null  object \n",
            " 16  Size          421570 non-null  int64  \n",
            "dtypes: bool(2), float64(10), int64(3), object(2)\n",
            "memory usage: 52.3+ MB\n"
          ]
        }
      ]
    },
    {
      "cell_type": "code",
      "source": [
        "df.drop(['IsHoliday_y'], axis=1,inplace=True)\n",
        "df.rename(columns={'IsHoliday_x':'IsHoliday'},inplace=True)"
      ],
      "metadata": {
        "id": "eLh9-nNZZVCG"
      },
      "execution_count": null,
      "outputs": []
    },
    {
      "cell_type": "code",
      "source": [
        "df.shape"
      ],
      "metadata": {
        "colab": {
          "base_uri": "https://localhost:8080/"
        },
        "id": "a11vnN-UZU5x",
        "outputId": "5f0ba212-c657-4750-cd75-eaff18ffb0d2"
      },
      "execution_count": null,
      "outputs": [
        {
          "output_type": "execute_result",
          "data": {
            "text/plain": [
              "(421570, 16)"
            ]
          },
          "metadata": {},
          "execution_count": 16
        }
      ]
    },
    {
      "cell_type": "code",
      "source": [
        "store_dept_table = pd.pivot_table(df, index='Dept', columns='Store',values='Weekly_Sales', aggfunc=np.mean)\n",
        "display(store_dept_table)"
      ],
      "metadata": {
        "colab": {
          "base_uri": "https://localhost:8080/",
          "height": 519
        },
        "id": "Qe0LdBDeeJTg",
        "outputId": "1d2842ff-87b7-4728-b641-406960535128"
      },
      "execution_count": null,
      "outputs": [
        {
          "output_type": "display_data",
          "data": {
            "text/plain": [
              "Store             1              2             3              4   \\\n",
              "Dept                                                               \n",
              "1       22513.322937   30777.980769   7328.621049   36979.940070   \n",
              "2       46102.090420   65912.922517  16841.775664   93639.315385   \n",
              "3       13150.478042   17476.563357   5509.300769   19012.491678   \n",
              "4       36964.154476   45607.666573   8434.186503   56603.400140   \n",
              "5       24257.941119   30555.315315  11695.366573   45668.406783   \n",
              "...              ...            ...           ...            ...   \n",
              "95     120772.062168  143588.751888  15745.528252  147236.473706   \n",
              "96      33251.831639   34319.063846   3934.540000   38346.573077   \n",
              "97      35207.348811   40697.204056    343.437357   39339.238951   \n",
              "98      11827.770769   14035.400839     30.570833   15009.249371   \n",
              "99        306.091081     475.896905           NaN     623.182381   \n",
              "\n",
              "Store            5             6             7             8             9   \\\n",
              "Dept                                                                          \n",
              "1       9774.553077  23867.553776   9542.801259  14789.827343  11846.558252   \n",
              "2      12317.953287  50269.437273  22603.690769  35729.821748  24969.477413   \n",
              "3       4101.085175  16806.638811   8633.536923  10683.305105   7497.356783   \n",
              "4       9860.806783  34187.366503  14950.518601  21089.309301  17165.947762   \n",
              "5       6699.202238  34465.307622  13860.350490  19838.849231  19282.746014   \n",
              "...             ...           ...           ...           ...           ...   \n",
              "95     19340.693986  89208.786294  34208.097273  62951.463706  29575.050769   \n",
              "96      5985.671119  30450.542238   1123.383217     16.986667   3596.107762   \n",
              "97       667.070315  20637.667063   4374.927902  16978.366503    372.655556   \n",
              "98        29.976087   9728.100629    260.886596   6880.466434     27.930000   \n",
              "99              NaN    388.636750     15.000000    298.153714           NaN   \n",
              "\n",
              "Store             10            11            12             13  \\\n",
              "Dept                                                              \n",
              "1       39925.138951  18860.911958  17330.087622   47020.455455   \n",
              "2      109795.291469  57114.326224  74494.846224   76339.960000   \n",
              "3       32086.181469  17628.778671  17535.251678   26116.623706   \n",
              "4       48579.826364  28837.744545  26673.788182   42563.275455   \n",
              "5       58373.460280  36663.363916  27756.204615   56786.934755   \n",
              "...              ...           ...           ...            ...   \n",
              "95      73344.654685  77487.279091  43405.853357  136844.834056   \n",
              "96      11079.676643  21685.298811      6.441176    9165.079930   \n",
              "97       5323.506503  16596.197552   2394.894755   27556.759231   \n",
              "98        198.179091   9570.351469    747.609860   14980.825385   \n",
              "99               NaN    520.938125     29.880000     732.604651   \n",
              "\n",
              "Store             14            15            16            17            18  \\\n",
              "Dept                                                                           \n",
              "1       30611.783357  13845.747832  11352.479371  22801.609161  21988.356224   \n",
              "2       77704.857972  26317.410769  23549.144965  42231.844406  63665.139510   \n",
              "3       19418.273986  10470.811958   7635.427273  19278.955035  16392.980490   \n",
              "4       52936.323287  13082.172448  14748.078112  23961.357273  26775.207203   \n",
              "5       33468.325035  16465.706993  13494.538671  27082.325594  22933.954965   \n",
              "...              ...           ...           ...           ...           ...   \n",
              "95     144446.932517  27291.017133  27385.769231  50614.958462  57668.251748   \n",
              "96          5.193846   2784.158881    126.934126    819.416458      0.481333   \n",
              "97      25684.497762   2071.211888   2116.696993   7798.283427   5350.500432   \n",
              "98      17768.013706    273.504884     42.618571    169.379120    881.150853   \n",
              "99        635.556047     29.880000     59.760000      2.290000     12.560000   \n",
              "\n",
              "Store            19             20            21            22            23  \\\n",
              "Dept                                                                           \n",
              "1      21504.029161   40545.473217  14950.049231  21493.271119  33186.460559   \n",
              "2      50841.072937   78251.249930  47780.599161  53361.851888  70522.580140   \n",
              "3      18414.224476   15490.971259  14607.126923  13150.979510  19912.564755   \n",
              "4      31365.545315   51456.376643  19354.728042  32104.132378  27324.303077   \n",
              "5      28759.223846   41647.786503  16090.874545  23187.335105  36895.869021   \n",
              "...             ...            ...           ...           ...           ...   \n",
              "95     97240.503566  150613.955385  40379.295175  57868.571119  54199.088322   \n",
              "96     15860.814825      15.266875      2.000000      6.243000  13168.146713   \n",
              "97     20370.269720   25836.062238   3260.404685   4582.594755   6149.684755   \n",
              "98     12884.229091   19284.377343    111.680672    177.560576    100.585083   \n",
              "99       440.374878     796.153864     29.880000     27.150000     29.880000   \n",
              "\n",
              "Store            24            25            26             27            28  \\\n",
              "Dept                                                                           \n",
              "1      18859.023357  20145.897483  19402.762937   30437.976224  20180.453986   \n",
              "2      40797.169301  36871.310559  27398.030979   79001.049161  57751.274336   \n",
              "3      11825.589021  11788.130979   7357.400769   20226.734615  12562.223287   \n",
              "4      29245.357552  20351.455455  24498.113846   43596.933916  27980.817203   \n",
              "5      29178.058811  12422.996434  17589.532587   28059.038252  28221.618392   \n",
              "...             ...           ...           ...            ...           ...   \n",
              "95     93927.992098  43991.147692  70236.827622  119519.410909  96322.113846   \n",
              "96     13623.074615     -1.270000  18596.331888   20806.990909  26288.955734   \n",
              "97     18597.824126   2706.628252  14830.084825   21268.805734  23828.861329   \n",
              "98      9878.970140    665.919779   8025.948601   11524.137832  10673.133077   \n",
              "99       413.774211           NaN    221.950278     562.980000    316.605610   \n",
              "\n",
              "Store            29            30             31            32            33  \\\n",
              "Dept                                                                           \n",
              "1      15504.699580   9788.376643   17356.652448  22852.639510   2379.086573   \n",
              "2      25181.662727  12974.464476   58512.131538  50323.497343   7471.425105   \n",
              "3       7995.955804    739.981888   10616.675944  15472.540140    283.950140   \n",
              "4      14326.216224  13216.100909   34848.899231  28137.154965   6107.616014   \n",
              "5      12931.821259    405.565944   18715.630769  20748.371888    112.728310   \n",
              "...             ...           ...            ...           ...           ...   \n",
              "95     30980.395594  45456.508322  106696.019231  84695.234196  27022.949161   \n",
              "96        11.800000  19163.112028   30335.294266   2308.411818   9371.822168   \n",
              "97      2131.676783  13172.531119   31144.978112  17160.310000   5375.769510   \n",
              "98       139.677971   3207.034685   10101.886713   7939.262378   7340.692168   \n",
              "99        29.880000     -0.641818     218.742203    379.147250      0.022000   \n",
              "\n",
              "Store            34            35            36            37            38  \\\n",
              "Dept                                                                          \n",
              "1      19947.573077  17082.647902   2239.227413  11024.235874   6923.538531   \n",
              "2      34916.225874  45578.456224  13416.025664  16511.446224  10986.172657   \n",
              "3       8377.376434  14308.382797    381.324266   1297.862028    498.700210   \n",
              "4      19791.509021  19495.631119   9873.505105  17614.013636  10669.501329   \n",
              "5      21633.900559  24858.433706    314.753982   1137.631189    397.418322   \n",
              "...             ...           ...           ...           ...           ...   \n",
              "95     69245.187972  43286.536993  39735.688741  51410.551119  41793.649021   \n",
              "96     19154.212308     10.788333  15683.341818  20375.380769  11981.676643   \n",
              "97     17570.577483   3738.292517   6469.273636  13960.701399   9902.368182   \n",
              "98      7775.998182     68.284831   9009.943776   5286.761119   4783.086713   \n",
              "99       347.144324           NaN      0.020000     15.000000     25.000000   \n",
              "\n",
              "Store             39            40            41            42            43  \\\n",
              "Dept                                                                           \n",
              "1       21925.021189  18794.578811  23205.259930  10375.148392   7549.109021   \n",
              "2       67338.429371  26702.705175  48349.828951  15976.902448  20722.851469   \n",
              "3       20569.701608   6489.030350  17021.833357    814.451189    999.648881   \n",
              "4       44807.515105  24386.750559  30538.574895  14885.264755  18227.382168   \n",
              "5       24043.436783  17689.671678  25513.943776   1052.296783    575.417326   \n",
              "...              ...           ...           ...           ...           ...   \n",
              "95     103036.757133  66572.881259  88666.468392  61205.272308  72883.223287   \n",
              "96      27089.158601  15309.077972   2883.492238  15183.474196  25058.369371   \n",
              "97      23993.406853  17131.033497  19789.219231  17495.198811  19349.989930   \n",
              "98       9767.295734   8178.371049   9371.531608   6540.721259   9594.867483   \n",
              "99        334.869756    167.374167    443.736512           NaN     26.250000   \n",
              "\n",
              "Store            44            45  \n",
              "Dept                               \n",
              "1       8049.992308  17745.916014  \n",
              "2       9377.273007  35800.912448  \n",
              "3        571.016713   9508.014965  \n",
              "4       7403.959580  24229.873147  \n",
              "5        960.670490  16107.063077  \n",
              "...             ...           ...  \n",
              "95     31100.185175  52896.166643  \n",
              "96      2834.139580      2.970000  \n",
              "97      6636.467413   6466.961888  \n",
              "98      3466.077063    561.239037  \n",
              "99         3.505000           NaN  \n",
              "\n",
              "[81 rows x 45 columns]"
            ],
            "text/html": [
              "\n",
              "  <div id=\"df-c221131f-d8ea-40f1-8466-faede5310953\">\n",
              "    <div class=\"colab-df-container\">\n",
              "      <div>\n",
              "<style scoped>\n",
              "    .dataframe tbody tr th:only-of-type {\n",
              "        vertical-align: middle;\n",
              "    }\n",
              "\n",
              "    .dataframe tbody tr th {\n",
              "        vertical-align: top;\n",
              "    }\n",
              "\n",
              "    .dataframe thead th {\n",
              "        text-align: right;\n",
              "    }\n",
              "</style>\n",
              "<table border=\"1\" class=\"dataframe\">\n",
              "  <thead>\n",
              "    <tr style=\"text-align: right;\">\n",
              "      <th>Store</th>\n",
              "      <th>1</th>\n",
              "      <th>2</th>\n",
              "      <th>3</th>\n",
              "      <th>4</th>\n",
              "      <th>5</th>\n",
              "      <th>6</th>\n",
              "      <th>7</th>\n",
              "      <th>8</th>\n",
              "      <th>9</th>\n",
              "      <th>10</th>\n",
              "      <th>11</th>\n",
              "      <th>12</th>\n",
              "      <th>13</th>\n",
              "      <th>14</th>\n",
              "      <th>15</th>\n",
              "      <th>16</th>\n",
              "      <th>17</th>\n",
              "      <th>18</th>\n",
              "      <th>19</th>\n",
              "      <th>20</th>\n",
              "      <th>21</th>\n",
              "      <th>22</th>\n",
              "      <th>23</th>\n",
              "      <th>24</th>\n",
              "      <th>25</th>\n",
              "      <th>26</th>\n",
              "      <th>27</th>\n",
              "      <th>28</th>\n",
              "      <th>29</th>\n",
              "      <th>30</th>\n",
              "      <th>31</th>\n",
              "      <th>32</th>\n",
              "      <th>33</th>\n",
              "      <th>34</th>\n",
              "      <th>35</th>\n",
              "      <th>36</th>\n",
              "      <th>37</th>\n",
              "      <th>38</th>\n",
              "      <th>39</th>\n",
              "      <th>40</th>\n",
              "      <th>41</th>\n",
              "      <th>42</th>\n",
              "      <th>43</th>\n",
              "      <th>44</th>\n",
              "      <th>45</th>\n",
              "    </tr>\n",
              "    <tr>\n",
              "      <th>Dept</th>\n",
              "      <th></th>\n",
              "      <th></th>\n",
              "      <th></th>\n",
              "      <th></th>\n",
              "      <th></th>\n",
              "      <th></th>\n",
              "      <th></th>\n",
              "      <th></th>\n",
              "      <th></th>\n",
              "      <th></th>\n",
              "      <th></th>\n",
              "      <th></th>\n",
              "      <th></th>\n",
              "      <th></th>\n",
              "      <th></th>\n",
              "      <th></th>\n",
              "      <th></th>\n",
              "      <th></th>\n",
              "      <th></th>\n",
              "      <th></th>\n",
              "      <th></th>\n",
              "      <th></th>\n",
              "      <th></th>\n",
              "      <th></th>\n",
              "      <th></th>\n",
              "      <th></th>\n",
              "      <th></th>\n",
              "      <th></th>\n",
              "      <th></th>\n",
              "      <th></th>\n",
              "      <th></th>\n",
              "      <th></th>\n",
              "      <th></th>\n",
              "      <th></th>\n",
              "      <th></th>\n",
              "      <th></th>\n",
              "      <th></th>\n",
              "      <th></th>\n",
              "      <th></th>\n",
              "      <th></th>\n",
              "      <th></th>\n",
              "      <th></th>\n",
              "      <th></th>\n",
              "      <th></th>\n",
              "      <th></th>\n",
              "    </tr>\n",
              "  </thead>\n",
              "  <tbody>\n",
              "    <tr>\n",
              "      <th>1</th>\n",
              "      <td>22513.322937</td>\n",
              "      <td>30777.980769</td>\n",
              "      <td>7328.621049</td>\n",
              "      <td>36979.940070</td>\n",
              "      <td>9774.553077</td>\n",
              "      <td>23867.553776</td>\n",
              "      <td>9542.801259</td>\n",
              "      <td>14789.827343</td>\n",
              "      <td>11846.558252</td>\n",
              "      <td>39925.138951</td>\n",
              "      <td>18860.911958</td>\n",
              "      <td>17330.087622</td>\n",
              "      <td>47020.455455</td>\n",
              "      <td>30611.783357</td>\n",
              "      <td>13845.747832</td>\n",
              "      <td>11352.479371</td>\n",
              "      <td>22801.609161</td>\n",
              "      <td>21988.356224</td>\n",
              "      <td>21504.029161</td>\n",
              "      <td>40545.473217</td>\n",
              "      <td>14950.049231</td>\n",
              "      <td>21493.271119</td>\n",
              "      <td>33186.460559</td>\n",
              "      <td>18859.023357</td>\n",
              "      <td>20145.897483</td>\n",
              "      <td>19402.762937</td>\n",
              "      <td>30437.976224</td>\n",
              "      <td>20180.453986</td>\n",
              "      <td>15504.699580</td>\n",
              "      <td>9788.376643</td>\n",
              "      <td>17356.652448</td>\n",
              "      <td>22852.639510</td>\n",
              "      <td>2379.086573</td>\n",
              "      <td>19947.573077</td>\n",
              "      <td>17082.647902</td>\n",
              "      <td>2239.227413</td>\n",
              "      <td>11024.235874</td>\n",
              "      <td>6923.538531</td>\n",
              "      <td>21925.021189</td>\n",
              "      <td>18794.578811</td>\n",
              "      <td>23205.259930</td>\n",
              "      <td>10375.148392</td>\n",
              "      <td>7549.109021</td>\n",
              "      <td>8049.992308</td>\n",
              "      <td>17745.916014</td>\n",
              "    </tr>\n",
              "    <tr>\n",
              "      <th>2</th>\n",
              "      <td>46102.090420</td>\n",
              "      <td>65912.922517</td>\n",
              "      <td>16841.775664</td>\n",
              "      <td>93639.315385</td>\n",
              "      <td>12317.953287</td>\n",
              "      <td>50269.437273</td>\n",
              "      <td>22603.690769</td>\n",
              "      <td>35729.821748</td>\n",
              "      <td>24969.477413</td>\n",
              "      <td>109795.291469</td>\n",
              "      <td>57114.326224</td>\n",
              "      <td>74494.846224</td>\n",
              "      <td>76339.960000</td>\n",
              "      <td>77704.857972</td>\n",
              "      <td>26317.410769</td>\n",
              "      <td>23549.144965</td>\n",
              "      <td>42231.844406</td>\n",
              "      <td>63665.139510</td>\n",
              "      <td>50841.072937</td>\n",
              "      <td>78251.249930</td>\n",
              "      <td>47780.599161</td>\n",
              "      <td>53361.851888</td>\n",
              "      <td>70522.580140</td>\n",
              "      <td>40797.169301</td>\n",
              "      <td>36871.310559</td>\n",
              "      <td>27398.030979</td>\n",
              "      <td>79001.049161</td>\n",
              "      <td>57751.274336</td>\n",
              "      <td>25181.662727</td>\n",
              "      <td>12974.464476</td>\n",
              "      <td>58512.131538</td>\n",
              "      <td>50323.497343</td>\n",
              "      <td>7471.425105</td>\n",
              "      <td>34916.225874</td>\n",
              "      <td>45578.456224</td>\n",
              "      <td>13416.025664</td>\n",
              "      <td>16511.446224</td>\n",
              "      <td>10986.172657</td>\n",
              "      <td>67338.429371</td>\n",
              "      <td>26702.705175</td>\n",
              "      <td>48349.828951</td>\n",
              "      <td>15976.902448</td>\n",
              "      <td>20722.851469</td>\n",
              "      <td>9377.273007</td>\n",
              "      <td>35800.912448</td>\n",
              "    </tr>\n",
              "    <tr>\n",
              "      <th>3</th>\n",
              "      <td>13150.478042</td>\n",
              "      <td>17476.563357</td>\n",
              "      <td>5509.300769</td>\n",
              "      <td>19012.491678</td>\n",
              "      <td>4101.085175</td>\n",
              "      <td>16806.638811</td>\n",
              "      <td>8633.536923</td>\n",
              "      <td>10683.305105</td>\n",
              "      <td>7497.356783</td>\n",
              "      <td>32086.181469</td>\n",
              "      <td>17628.778671</td>\n",
              "      <td>17535.251678</td>\n",
              "      <td>26116.623706</td>\n",
              "      <td>19418.273986</td>\n",
              "      <td>10470.811958</td>\n",
              "      <td>7635.427273</td>\n",
              "      <td>19278.955035</td>\n",
              "      <td>16392.980490</td>\n",
              "      <td>18414.224476</td>\n",
              "      <td>15490.971259</td>\n",
              "      <td>14607.126923</td>\n",
              "      <td>13150.979510</td>\n",
              "      <td>19912.564755</td>\n",
              "      <td>11825.589021</td>\n",
              "      <td>11788.130979</td>\n",
              "      <td>7357.400769</td>\n",
              "      <td>20226.734615</td>\n",
              "      <td>12562.223287</td>\n",
              "      <td>7995.955804</td>\n",
              "      <td>739.981888</td>\n",
              "      <td>10616.675944</td>\n",
              "      <td>15472.540140</td>\n",
              "      <td>283.950140</td>\n",
              "      <td>8377.376434</td>\n",
              "      <td>14308.382797</td>\n",
              "      <td>381.324266</td>\n",
              "      <td>1297.862028</td>\n",
              "      <td>498.700210</td>\n",
              "      <td>20569.701608</td>\n",
              "      <td>6489.030350</td>\n",
              "      <td>17021.833357</td>\n",
              "      <td>814.451189</td>\n",
              "      <td>999.648881</td>\n",
              "      <td>571.016713</td>\n",
              "      <td>9508.014965</td>\n",
              "    </tr>\n",
              "    <tr>\n",
              "      <th>4</th>\n",
              "      <td>36964.154476</td>\n",
              "      <td>45607.666573</td>\n",
              "      <td>8434.186503</td>\n",
              "      <td>56603.400140</td>\n",
              "      <td>9860.806783</td>\n",
              "      <td>34187.366503</td>\n",
              "      <td>14950.518601</td>\n",
              "      <td>21089.309301</td>\n",
              "      <td>17165.947762</td>\n",
              "      <td>48579.826364</td>\n",
              "      <td>28837.744545</td>\n",
              "      <td>26673.788182</td>\n",
              "      <td>42563.275455</td>\n",
              "      <td>52936.323287</td>\n",
              "      <td>13082.172448</td>\n",
              "      <td>14748.078112</td>\n",
              "      <td>23961.357273</td>\n",
              "      <td>26775.207203</td>\n",
              "      <td>31365.545315</td>\n",
              "      <td>51456.376643</td>\n",
              "      <td>19354.728042</td>\n",
              "      <td>32104.132378</td>\n",
              "      <td>27324.303077</td>\n",
              "      <td>29245.357552</td>\n",
              "      <td>20351.455455</td>\n",
              "      <td>24498.113846</td>\n",
              "      <td>43596.933916</td>\n",
              "      <td>27980.817203</td>\n",
              "      <td>14326.216224</td>\n",
              "      <td>13216.100909</td>\n",
              "      <td>34848.899231</td>\n",
              "      <td>28137.154965</td>\n",
              "      <td>6107.616014</td>\n",
              "      <td>19791.509021</td>\n",
              "      <td>19495.631119</td>\n",
              "      <td>9873.505105</td>\n",
              "      <td>17614.013636</td>\n",
              "      <td>10669.501329</td>\n",
              "      <td>44807.515105</td>\n",
              "      <td>24386.750559</td>\n",
              "      <td>30538.574895</td>\n",
              "      <td>14885.264755</td>\n",
              "      <td>18227.382168</td>\n",
              "      <td>7403.959580</td>\n",
              "      <td>24229.873147</td>\n",
              "    </tr>\n",
              "    <tr>\n",
              "      <th>5</th>\n",
              "      <td>24257.941119</td>\n",
              "      <td>30555.315315</td>\n",
              "      <td>11695.366573</td>\n",
              "      <td>45668.406783</td>\n",
              "      <td>6699.202238</td>\n",
              "      <td>34465.307622</td>\n",
              "      <td>13860.350490</td>\n",
              "      <td>19838.849231</td>\n",
              "      <td>19282.746014</td>\n",
              "      <td>58373.460280</td>\n",
              "      <td>36663.363916</td>\n",
              "      <td>27756.204615</td>\n",
              "      <td>56786.934755</td>\n",
              "      <td>33468.325035</td>\n",
              "      <td>16465.706993</td>\n",
              "      <td>13494.538671</td>\n",
              "      <td>27082.325594</td>\n",
              "      <td>22933.954965</td>\n",
              "      <td>28759.223846</td>\n",
              "      <td>41647.786503</td>\n",
              "      <td>16090.874545</td>\n",
              "      <td>23187.335105</td>\n",
              "      <td>36895.869021</td>\n",
              "      <td>29178.058811</td>\n",
              "      <td>12422.996434</td>\n",
              "      <td>17589.532587</td>\n",
              "      <td>28059.038252</td>\n",
              "      <td>28221.618392</td>\n",
              "      <td>12931.821259</td>\n",
              "      <td>405.565944</td>\n",
              "      <td>18715.630769</td>\n",
              "      <td>20748.371888</td>\n",
              "      <td>112.728310</td>\n",
              "      <td>21633.900559</td>\n",
              "      <td>24858.433706</td>\n",
              "      <td>314.753982</td>\n",
              "      <td>1137.631189</td>\n",
              "      <td>397.418322</td>\n",
              "      <td>24043.436783</td>\n",
              "      <td>17689.671678</td>\n",
              "      <td>25513.943776</td>\n",
              "      <td>1052.296783</td>\n",
              "      <td>575.417326</td>\n",
              "      <td>960.670490</td>\n",
              "      <td>16107.063077</td>\n",
              "    </tr>\n",
              "    <tr>\n",
              "      <th>...</th>\n",
              "      <td>...</td>\n",
              "      <td>...</td>\n",
              "      <td>...</td>\n",
              "      <td>...</td>\n",
              "      <td>...</td>\n",
              "      <td>...</td>\n",
              "      <td>...</td>\n",
              "      <td>...</td>\n",
              "      <td>...</td>\n",
              "      <td>...</td>\n",
              "      <td>...</td>\n",
              "      <td>...</td>\n",
              "      <td>...</td>\n",
              "      <td>...</td>\n",
              "      <td>...</td>\n",
              "      <td>...</td>\n",
              "      <td>...</td>\n",
              "      <td>...</td>\n",
              "      <td>...</td>\n",
              "      <td>...</td>\n",
              "      <td>...</td>\n",
              "      <td>...</td>\n",
              "      <td>...</td>\n",
              "      <td>...</td>\n",
              "      <td>...</td>\n",
              "      <td>...</td>\n",
              "      <td>...</td>\n",
              "      <td>...</td>\n",
              "      <td>...</td>\n",
              "      <td>...</td>\n",
              "      <td>...</td>\n",
              "      <td>...</td>\n",
              "      <td>...</td>\n",
              "      <td>...</td>\n",
              "      <td>...</td>\n",
              "      <td>...</td>\n",
              "      <td>...</td>\n",
              "      <td>...</td>\n",
              "      <td>...</td>\n",
              "      <td>...</td>\n",
              "      <td>...</td>\n",
              "      <td>...</td>\n",
              "      <td>...</td>\n",
              "      <td>...</td>\n",
              "      <td>...</td>\n",
              "    </tr>\n",
              "    <tr>\n",
              "      <th>95</th>\n",
              "      <td>120772.062168</td>\n",
              "      <td>143588.751888</td>\n",
              "      <td>15745.528252</td>\n",
              "      <td>147236.473706</td>\n",
              "      <td>19340.693986</td>\n",
              "      <td>89208.786294</td>\n",
              "      <td>34208.097273</td>\n",
              "      <td>62951.463706</td>\n",
              "      <td>29575.050769</td>\n",
              "      <td>73344.654685</td>\n",
              "      <td>77487.279091</td>\n",
              "      <td>43405.853357</td>\n",
              "      <td>136844.834056</td>\n",
              "      <td>144446.932517</td>\n",
              "      <td>27291.017133</td>\n",
              "      <td>27385.769231</td>\n",
              "      <td>50614.958462</td>\n",
              "      <td>57668.251748</td>\n",
              "      <td>97240.503566</td>\n",
              "      <td>150613.955385</td>\n",
              "      <td>40379.295175</td>\n",
              "      <td>57868.571119</td>\n",
              "      <td>54199.088322</td>\n",
              "      <td>93927.992098</td>\n",
              "      <td>43991.147692</td>\n",
              "      <td>70236.827622</td>\n",
              "      <td>119519.410909</td>\n",
              "      <td>96322.113846</td>\n",
              "      <td>30980.395594</td>\n",
              "      <td>45456.508322</td>\n",
              "      <td>106696.019231</td>\n",
              "      <td>84695.234196</td>\n",
              "      <td>27022.949161</td>\n",
              "      <td>69245.187972</td>\n",
              "      <td>43286.536993</td>\n",
              "      <td>39735.688741</td>\n",
              "      <td>51410.551119</td>\n",
              "      <td>41793.649021</td>\n",
              "      <td>103036.757133</td>\n",
              "      <td>66572.881259</td>\n",
              "      <td>88666.468392</td>\n",
              "      <td>61205.272308</td>\n",
              "      <td>72883.223287</td>\n",
              "      <td>31100.185175</td>\n",
              "      <td>52896.166643</td>\n",
              "    </tr>\n",
              "    <tr>\n",
              "      <th>96</th>\n",
              "      <td>33251.831639</td>\n",
              "      <td>34319.063846</td>\n",
              "      <td>3934.540000</td>\n",
              "      <td>38346.573077</td>\n",
              "      <td>5985.671119</td>\n",
              "      <td>30450.542238</td>\n",
              "      <td>1123.383217</td>\n",
              "      <td>16.986667</td>\n",
              "      <td>3596.107762</td>\n",
              "      <td>11079.676643</td>\n",
              "      <td>21685.298811</td>\n",
              "      <td>6.441176</td>\n",
              "      <td>9165.079930</td>\n",
              "      <td>5.193846</td>\n",
              "      <td>2784.158881</td>\n",
              "      <td>126.934126</td>\n",
              "      <td>819.416458</td>\n",
              "      <td>0.481333</td>\n",
              "      <td>15860.814825</td>\n",
              "      <td>15.266875</td>\n",
              "      <td>2.000000</td>\n",
              "      <td>6.243000</td>\n",
              "      <td>13168.146713</td>\n",
              "      <td>13623.074615</td>\n",
              "      <td>-1.270000</td>\n",
              "      <td>18596.331888</td>\n",
              "      <td>20806.990909</td>\n",
              "      <td>26288.955734</td>\n",
              "      <td>11.800000</td>\n",
              "      <td>19163.112028</td>\n",
              "      <td>30335.294266</td>\n",
              "      <td>2308.411818</td>\n",
              "      <td>9371.822168</td>\n",
              "      <td>19154.212308</td>\n",
              "      <td>10.788333</td>\n",
              "      <td>15683.341818</td>\n",
              "      <td>20375.380769</td>\n",
              "      <td>11981.676643</td>\n",
              "      <td>27089.158601</td>\n",
              "      <td>15309.077972</td>\n",
              "      <td>2883.492238</td>\n",
              "      <td>15183.474196</td>\n",
              "      <td>25058.369371</td>\n",
              "      <td>2834.139580</td>\n",
              "      <td>2.970000</td>\n",
              "    </tr>\n",
              "    <tr>\n",
              "      <th>97</th>\n",
              "      <td>35207.348811</td>\n",
              "      <td>40697.204056</td>\n",
              "      <td>343.437357</td>\n",
              "      <td>39339.238951</td>\n",
              "      <td>667.070315</td>\n",
              "      <td>20637.667063</td>\n",
              "      <td>4374.927902</td>\n",
              "      <td>16978.366503</td>\n",
              "      <td>372.655556</td>\n",
              "      <td>5323.506503</td>\n",
              "      <td>16596.197552</td>\n",
              "      <td>2394.894755</td>\n",
              "      <td>27556.759231</td>\n",
              "      <td>25684.497762</td>\n",
              "      <td>2071.211888</td>\n",
              "      <td>2116.696993</td>\n",
              "      <td>7798.283427</td>\n",
              "      <td>5350.500432</td>\n",
              "      <td>20370.269720</td>\n",
              "      <td>25836.062238</td>\n",
              "      <td>3260.404685</td>\n",
              "      <td>4582.594755</td>\n",
              "      <td>6149.684755</td>\n",
              "      <td>18597.824126</td>\n",
              "      <td>2706.628252</td>\n",
              "      <td>14830.084825</td>\n",
              "      <td>21268.805734</td>\n",
              "      <td>23828.861329</td>\n",
              "      <td>2131.676783</td>\n",
              "      <td>13172.531119</td>\n",
              "      <td>31144.978112</td>\n",
              "      <td>17160.310000</td>\n",
              "      <td>5375.769510</td>\n",
              "      <td>17570.577483</td>\n",
              "      <td>3738.292517</td>\n",
              "      <td>6469.273636</td>\n",
              "      <td>13960.701399</td>\n",
              "      <td>9902.368182</td>\n",
              "      <td>23993.406853</td>\n",
              "      <td>17131.033497</td>\n",
              "      <td>19789.219231</td>\n",
              "      <td>17495.198811</td>\n",
              "      <td>19349.989930</td>\n",
              "      <td>6636.467413</td>\n",
              "      <td>6466.961888</td>\n",
              "    </tr>\n",
              "    <tr>\n",
              "      <th>98</th>\n",
              "      <td>11827.770769</td>\n",
              "      <td>14035.400839</td>\n",
              "      <td>30.570833</td>\n",
              "      <td>15009.249371</td>\n",
              "      <td>29.976087</td>\n",
              "      <td>9728.100629</td>\n",
              "      <td>260.886596</td>\n",
              "      <td>6880.466434</td>\n",
              "      <td>27.930000</td>\n",
              "      <td>198.179091</td>\n",
              "      <td>9570.351469</td>\n",
              "      <td>747.609860</td>\n",
              "      <td>14980.825385</td>\n",
              "      <td>17768.013706</td>\n",
              "      <td>273.504884</td>\n",
              "      <td>42.618571</td>\n",
              "      <td>169.379120</td>\n",
              "      <td>881.150853</td>\n",
              "      <td>12884.229091</td>\n",
              "      <td>19284.377343</td>\n",
              "      <td>111.680672</td>\n",
              "      <td>177.560576</td>\n",
              "      <td>100.585083</td>\n",
              "      <td>9878.970140</td>\n",
              "      <td>665.919779</td>\n",
              "      <td>8025.948601</td>\n",
              "      <td>11524.137832</td>\n",
              "      <td>10673.133077</td>\n",
              "      <td>139.677971</td>\n",
              "      <td>3207.034685</td>\n",
              "      <td>10101.886713</td>\n",
              "      <td>7939.262378</td>\n",
              "      <td>7340.692168</td>\n",
              "      <td>7775.998182</td>\n",
              "      <td>68.284831</td>\n",
              "      <td>9009.943776</td>\n",
              "      <td>5286.761119</td>\n",
              "      <td>4783.086713</td>\n",
              "      <td>9767.295734</td>\n",
              "      <td>8178.371049</td>\n",
              "      <td>9371.531608</td>\n",
              "      <td>6540.721259</td>\n",
              "      <td>9594.867483</td>\n",
              "      <td>3466.077063</td>\n",
              "      <td>561.239037</td>\n",
              "    </tr>\n",
              "    <tr>\n",
              "      <th>99</th>\n",
              "      <td>306.091081</td>\n",
              "      <td>475.896905</td>\n",
              "      <td>NaN</td>\n",
              "      <td>623.182381</td>\n",
              "      <td>NaN</td>\n",
              "      <td>388.636750</td>\n",
              "      <td>15.000000</td>\n",
              "      <td>298.153714</td>\n",
              "      <td>NaN</td>\n",
              "      <td>NaN</td>\n",
              "      <td>520.938125</td>\n",
              "      <td>29.880000</td>\n",
              "      <td>732.604651</td>\n",
              "      <td>635.556047</td>\n",
              "      <td>29.880000</td>\n",
              "      <td>59.760000</td>\n",
              "      <td>2.290000</td>\n",
              "      <td>12.560000</td>\n",
              "      <td>440.374878</td>\n",
              "      <td>796.153864</td>\n",
              "      <td>29.880000</td>\n",
              "      <td>27.150000</td>\n",
              "      <td>29.880000</td>\n",
              "      <td>413.774211</td>\n",
              "      <td>NaN</td>\n",
              "      <td>221.950278</td>\n",
              "      <td>562.980000</td>\n",
              "      <td>316.605610</td>\n",
              "      <td>29.880000</td>\n",
              "      <td>-0.641818</td>\n",
              "      <td>218.742203</td>\n",
              "      <td>379.147250</td>\n",
              "      <td>0.022000</td>\n",
              "      <td>347.144324</td>\n",
              "      <td>NaN</td>\n",
              "      <td>0.020000</td>\n",
              "      <td>15.000000</td>\n",
              "      <td>25.000000</td>\n",
              "      <td>334.869756</td>\n",
              "      <td>167.374167</td>\n",
              "      <td>443.736512</td>\n",
              "      <td>NaN</td>\n",
              "      <td>26.250000</td>\n",
              "      <td>3.505000</td>\n",
              "      <td>NaN</td>\n",
              "    </tr>\n",
              "  </tbody>\n",
              "</table>\n",
              "<p>81 rows × 45 columns</p>\n",
              "</div>\n",
              "      <button class=\"colab-df-convert\" onclick=\"convertToInteractive('df-c221131f-d8ea-40f1-8466-faede5310953')\"\n",
              "              title=\"Convert this dataframe to an interactive table.\"\n",
              "              style=\"display:none;\">\n",
              "        \n",
              "  <svg xmlns=\"http://www.w3.org/2000/svg\" height=\"24px\"viewBox=\"0 0 24 24\"\n",
              "       width=\"24px\">\n",
              "    <path d=\"M0 0h24v24H0V0z\" fill=\"none\"/>\n",
              "    <path d=\"M18.56 5.44l.94 2.06.94-2.06 2.06-.94-2.06-.94-.94-2.06-.94 2.06-2.06.94zm-11 1L8.5 8.5l.94-2.06 2.06-.94-2.06-.94L8.5 2.5l-.94 2.06-2.06.94zm10 10l.94 2.06.94-2.06 2.06-.94-2.06-.94-.94-2.06-.94 2.06-2.06.94z\"/><path d=\"M17.41 7.96l-1.37-1.37c-.4-.4-.92-.59-1.43-.59-.52 0-1.04.2-1.43.59L10.3 9.45l-7.72 7.72c-.78.78-.78 2.05 0 2.83L4 21.41c.39.39.9.59 1.41.59.51 0 1.02-.2 1.41-.59l7.78-7.78 2.81-2.81c.8-.78.8-2.07 0-2.86zM5.41 20L4 18.59l7.72-7.72 1.47 1.35L5.41 20z\"/>\n",
              "  </svg>\n",
              "      </button>\n",
              "      \n",
              "  <style>\n",
              "    .colab-df-container {\n",
              "      display:flex;\n",
              "      flex-wrap:wrap;\n",
              "      gap: 12px;\n",
              "    }\n",
              "\n",
              "    .colab-df-convert {\n",
              "      background-color: #E8F0FE;\n",
              "      border: none;\n",
              "      border-radius: 50%;\n",
              "      cursor: pointer;\n",
              "      display: none;\n",
              "      fill: #1967D2;\n",
              "      height: 32px;\n",
              "      padding: 0 0 0 0;\n",
              "      width: 32px;\n",
              "    }\n",
              "\n",
              "    .colab-df-convert:hover {\n",
              "      background-color: #E2EBFA;\n",
              "      box-shadow: 0px 1px 2px rgba(60, 64, 67, 0.3), 0px 1px 3px 1px rgba(60, 64, 67, 0.15);\n",
              "      fill: #174EA6;\n",
              "    }\n",
              "\n",
              "    [theme=dark] .colab-df-convert {\n",
              "      background-color: #3B4455;\n",
              "      fill: #D2E3FC;\n",
              "    }\n",
              "\n",
              "    [theme=dark] .colab-df-convert:hover {\n",
              "      background-color: #434B5C;\n",
              "      box-shadow: 0px 1px 3px 1px rgba(0, 0, 0, 0.15);\n",
              "      filter: drop-shadow(0px 1px 2px rgba(0, 0, 0, 0.3));\n",
              "      fill: #FFFFFF;\n",
              "    }\n",
              "  </style>\n",
              "\n",
              "      <script>\n",
              "        const buttonEl =\n",
              "          document.querySelector('#df-c221131f-d8ea-40f1-8466-faede5310953 button.colab-df-convert');\n",
              "        buttonEl.style.display =\n",
              "          google.colab.kernel.accessAllowed ? 'block' : 'none';\n",
              "\n",
              "        async function convertToInteractive(key) {\n",
              "          const element = document.querySelector('#df-c221131f-d8ea-40f1-8466-faede5310953');\n",
              "          const dataTable =\n",
              "            await google.colab.kernel.invokeFunction('convertToInteractive',\n",
              "                                                     [key], {});\n",
              "          if (!dataTable) return;\n",
              "\n",
              "          const docLinkHtml = 'Like what you see? Visit the ' +\n",
              "            '<a target=\"_blank\" href=https://colab.research.google.com/notebooks/data_table.ipynb>data table notebook</a>'\n",
              "            + ' to learn more about interactive tables.';\n",
              "          element.innerHTML = '';\n",
              "          dataTable['output_type'] = 'display_data';\n",
              "          await google.colab.output.renderOutput(dataTable, element);\n",
              "          const docLink = document.createElement('div');\n",
              "          docLink.innerHTML = docLinkHtml;\n",
              "          element.appendChild(docLink);\n",
              "        }\n",
              "      </script>\n",
              "    </div>\n",
              "  </div>\n",
              "  "
            ]
          },
          "metadata": {}
        }
      ]
    },
    {
      "cell_type": "code",
      "source": [
        "# fill missing values in markdown columns with 0\n",
        "# NOTE: inplace won't work for MULTI-columns\n",
        "list_cols = [\"MarkDown1\", \"MarkDown2\", \"MarkDown3\", \"MarkDown4\", \"MarkDown5\"]\n",
        "df[list_cols] = df[list_cols].fillna(0)"
      ],
      "metadata": {
        "id": "fg0jS_uepVc-"
      },
      "execution_count": null,
      "outputs": []
    },
    {
      "cell_type": "code",
      "source": [
        "# df = df.loc[df['Weekly_Sales'] > 0]\n",
        "# # Checking whether any null values existing in the dataframe\n",
        "# sum(pd.isna(df.Weekly_Sales)==True)\n",
        "df.isnull().sum()"
      ],
      "metadata": {
        "colab": {
          "base_uri": "https://localhost:8080/"
        },
        "id": "igTj1U0JeJQN",
        "outputId": "6d61d1b1-36ff-492d-fa27-aafda43e1f87"
      },
      "execution_count": null,
      "outputs": [
        {
          "output_type": "execute_result",
          "data": {
            "text/plain": [
              "Store           0\n",
              "Dept            0\n",
              "Date            0\n",
              "Weekly_Sales    0\n",
              "IsHoliday       0\n",
              "Temperature     0\n",
              "Fuel_Price      0\n",
              "MarkDown1       0\n",
              "MarkDown2       0\n",
              "MarkDown3       0\n",
              "MarkDown4       0\n",
              "MarkDown5       0\n",
              "CPI             0\n",
              "Unemployment    0\n",
              "Type            0\n",
              "Size            0\n",
              "dtype: int64"
            ]
          },
          "metadata": {},
          "execution_count": 19
        }
      ]
    },
    {
      "cell_type": "code",
      "source": [
        "df.shape"
      ],
      "metadata": {
        "colab": {
          "base_uri": "https://localhost:8080/"
        },
        "id": "0r83QXehYAXc",
        "outputId": "94f3f532-10a3-47d8-c5ae-ebc786d5fa84"
      },
      "execution_count": null,
      "outputs": [
        {
          "output_type": "execute_result",
          "data": {
            "text/plain": [
              "(421570, 16)"
            ]
          },
          "metadata": {},
          "execution_count": 20
        }
      ]
    },
    {
      "cell_type": "code",
      "source": [
        "plt.figure(figsize=(15,10))\n",
        "sns.boxplot(data=df)\n",
        "plt.title('Box Plot of Walmart Sales Data')\n",
        "plt.show()"
      ],
      "metadata": {
        "colab": {
          "base_uri": "https://localhost:8080/",
          "height": 796
        },
        "id": "9WtKHVerYASi",
        "outputId": "0df5e80e-4125-465a-9dcc-6bafcf7587c9"
      },
      "execution_count": null,
      "outputs": [
        {
          "output_type": "display_data",
          "data": {
            "text/plain": [
              "<Figure size 1500x1000 with 1 Axes>"
            ],
            "image/png": "[encoded data removed]"
          },
          "metadata": {}
        }
      ]
    },
    {
      "cell_type": "code",
      "source": [
        "# Data is highly right skewed\n",
        "plt.figure(figsize=(5,5))\n",
        "plt.hist(df['Weekly_Sales'],facecolor='red',edgecolor='blue')\n",
        "plt.show()"
      ],
      "metadata": {
        "colab": {
          "base_uri": "https://localhost:8080/",
          "height": 445
        },
        "id": "RFEn2Dy-YAM5",
        "outputId": "7c309da9-e977-4076-faba-42a2da6212c1"
      },
      "execution_count": null,
      "outputs": [
        {
          "output_type": "display_data",
          "data": {
            "text/plain": [
              "<Figure size 500x500 with 1 Axes>"
            ],
            "image/png": "[encoded data removed]"
          },
          "metadata": {}
        }
      ]
    },
    {
      "cell_type": "code",
      "source": [
        "fig = plt.figure(figsize=(12,4))\n",
        "ax1 = fig.add_axes([0,0,1,1])\n",
        "ax1.set_title('Weekly Sales of Walmart')\n",
        "ax1.plot(df['Date'][:1000],df['Weekly_Sales'][:1000],color='blue')\n",
        "plt.show()"
      ],
      "metadata": {
        "colab": {
          "base_uri": "https://localhost:8080/",
          "height": 439
        },
        "id": "sUnQh9nqYAHv",
        "outputId": "5f68b7d4-88ba-446a-cea7-908f04c33174"
      },
      "execution_count": null,
      "outputs": [
        {
          "output_type": "display_data",
          "data": {
            "text/plain": [
              "<Figure size 1200x400 with 1 Axes>"
            ],
            "image/png": "[encoded data removed]"
          },
          "metadata": {}
        }
      ]
    },
    {
      "cell_type": "markdown",
      "source": [
        "print('Store Type value Counts')\n",
        "print(df['Type'].value_counts())\n",
        "print('Unemployment value Counts')\n",
        "print(df['Is'].value_counts())"
      ],
      "metadata": {
        "id": "C12D3PagX_8j"
      }
    },
    {
      "cell_type": "code",
      "source": [
        "sns.barplot(x='IsHoliday', y='Weekly_Sales', data=df)"
      ],
      "metadata": {
        "colab": {
          "base_uri": "https://localhost:8080/",
          "height": 470
        },
        "id": "7vSIYsCVX_23",
        "outputId": "25a9b3f3-e51c-4c98-9ddc-d6d59f94540f"
      },
      "execution_count": null,
      "outputs": [
        {
          "output_type": "execute_result",
          "data": {
            "text/plain": [
              "<Axes: xlabel='IsHoliday', ylabel='Weekly_Sales'>"
            ]
          },
          "metadata": {},
          "execution_count": 24
        },
        {
          "output_type": "display_data",
          "data": {
            "text/plain": [
              "<Figure size 640x480 with 1 Axes>"
            ],
            "image/png": "[encoded data removed]"
          },
          "metadata": {}
        }
      ]
    },
    {
      "cell_type": "code",
      "source": [
        "plt.figure(figsize=(10,8)) # To see the type-size relation\n",
        "fig = sns.boxplot(x='Type', y='Size', data=df, showfliers=False)"
      ],
      "metadata": {
        "colab": {
          "base_uri": "https://localhost:8080/",
          "height": 700
        },
        "id": "U1QOJTu3X_xj",
        "outputId": "25720966-4533-46e1-8d3c-a5ed16137036"
      },
      "execution_count": null,
      "outputs": [
        {
          "output_type": "display_data",
          "data": {
            "text/plain": [
              "<Figure size 1000x800 with 1 Axes>"
            ],
            "image/png": "[encoded data removed]"
          },
          "metadata": {}
        }
      ]
    },
    {
      "cell_type": "code",
      "source": [
        "plt.figure(figsize=(30,10))\n",
        "fig = sns.barplot(x='Dept', y='Weekly_Sales', data=df)\n",
        "plt.xlabel('Departments')\n",
        "plt.ylabel('Weekly Sales')\n",
        "plt.title('Weekly Sales of Each Departments')\n",
        "plt.show()"
      ],
      "metadata": {
        "colab": {
          "base_uri": "https://localhost:8080/",
          "height": 428
        },
        "id": "ofEh__wXeJKH",
        "outputId": "1ae7e136-321d-491e-916d-d1b10fcfeb67"
      },
      "execution_count": null,
      "outputs": [
        {
          "output_type": "display_data",
          "data": {
            "text/plain": [
              "<Figure size 3000x1000 with 1 Axes>"
            ],
            "image/png": "[encoded data removed]"
          },
          "metadata": {}
        }
      ]
    },
    {
      "cell_type": "code",
      "source": [
        "plt.figure(figsize=(20,6))\n",
        "fig = sns.barplot(x='Store', y='Weekly_Sales', data=df)\n",
        "plt.xlabel('Stores')\n",
        "plt.ylabel('Weekly Sales')\n",
        "plt.title('Weekly Sales of Each Store')\n",
        "plt.show()"
      ],
      "metadata": {
        "colab": {
          "base_uri": "https://localhost:8080/",
          "height": 405
        },
        "id": "FBc9eIn0eJHY",
        "outputId": "76004c9e-0e84-4caa-bbb4-c70dd8b0f01a"
      },
      "execution_count": null,
      "outputs": [
        {
          "output_type": "display_data",
          "data": {
            "text/plain": [
              "<Figure size 2000x600 with 1 Axes>"
            ],
            "image/png": "[encoded data removed]"
          },
          "metadata": {}
        }
      ]
    },
    {
      "cell_type": "code",
      "source": [
        "df[\"Date\"] = pd.to_datetime(df[\"Date\"]) # convert to datetime\n",
        "df['week'] =df['Date'].dt.week\n",
        "df['month'] =df['Date'].dt.month \n",
        "df['year'] =df['Date'].dt.year"
      ],
      "metadata": {
        "id": "C7Wqu4iXeJDS"
      },
      "execution_count": null,
      "outputs": []
    },
    {
      "cell_type": "code",
      "source": [
        "df.groupby('month')['Weekly_Sales'].mean()"
      ],
      "metadata": {
        "colab": {
          "base_uri": "https://localhost:8080/"
        },
        "id": "slngF-qYeI-S",
        "outputId": "a38f8982-ed99-4d54-a621-8df6a1583efc"
      },
      "execution_count": null,
      "outputs": [
        {
          "output_type": "execute_result",
          "data": {
            "text/plain": [
              "month\n",
              "1     14126.075111\n",
              "2     16008.779217\n",
              "3     15416.657597\n",
              "4     15650.338357\n",
              "5     15776.337202\n",
              "6     16326.137002\n",
              "7     15861.419650\n",
              "8     16062.516933\n",
              "9     15095.886154\n",
              "10    15243.855576\n",
              "11    17491.031424\n",
              "12    19355.702141\n",
              "Name: Weekly_Sales, dtype: float64"
            ]
          },
          "metadata": {},
          "execution_count": 29
        }
      ]
    },
    {
      "cell_type": "code",
      "source": [
        "df.groupby('year')['Weekly_Sales'].mean()"
      ],
      "metadata": {
        "colab": {
          "base_uri": "https://localhost:8080/"
        },
        "id": "goiyJczjeI6Q",
        "outputId": "bb4bd2a9-8261-48ba-dff8-2fcab4a3017f"
      },
      "execution_count": null,
      "outputs": [
        {
          "output_type": "execute_result",
          "data": {
            "text/plain": [
              "year\n",
              "2010    16270.275737\n",
              "2011    15954.070675\n",
              "2012    15694.948597\n",
              "Name: Weekly_Sales, dtype: float64"
            ]
          },
          "metadata": {},
          "execution_count": 30
        }
      ]
    },
    {
      "cell_type": "code",
      "source": [
        "monthly_sales = pd.pivot_table(df, values = \"Weekly_Sales\", columns = \"year\", index = \"month\")\n",
        "monthly_sales.plot()\n",
        "plt.ylabel('Weekly Sales')\n",
        "plt.title('Year Wise Weekly Sales Distribution')\n",
        "plt.show()"
      ],
      "metadata": {
        "colab": {
          "base_uri": "https://localhost:8080/",
          "height": 477
        },
        "id": "YAf_dWrPeI2_",
        "outputId": "d782678d-303e-4e4e-c791-5c96d0511c44"
      },
      "execution_count": null,
      "outputs": [
        {
          "output_type": "display_data",
          "data": {
            "text/plain": [
              "<Figure size 640x480 with 1 Axes>"
            ],
            "image/png": "[encoded data removed]"
          },
          "metadata": {}
        }
      ]
    },
    {
      "cell_type": "code",
      "source": [
        "fig = sns.barplot(x='month', y='Weekly_Sales', data=df)"
      ],
      "metadata": {
        "colab": {
          "base_uri": "https://localhost:8080/",
          "height": 453
        },
        "id": "lVAnvA39X1zw",
        "outputId": "5a0f4988-8b54-4395-d58c-cb1a8d394695"
      },
      "execution_count": null,
      "outputs": [
        {
          "output_type": "display_data",
          "data": {
            "text/plain": [
              "<Figure size 640x480 with 1 Axes>"
            ],
            "image/png": "[encoded data removed]"
          },
          "metadata": {}
        }
      ]
    },
    {
      "cell_type": "code",
      "source": [
        "df.groupby('month')['Weekly_Sales'].mean().sort_values(ascending=False).head()"
      ],
      "metadata": {
        "colab": {
          "base_uri": "https://localhost:8080/"
        },
        "id": "9OYDru4HX1vp",
        "outputId": "1cb92e0e-90a5-4483-f458-2166d4027f1a"
      },
      "execution_count": null,
      "outputs": [
        {
          "output_type": "execute_result",
          "data": {
            "text/plain": [
              "month\n",
              "12    19355.702141\n",
              "11    17491.031424\n",
              "6     16326.137002\n",
              "8     16062.516933\n",
              "2     16008.779217\n",
              "Name: Weekly_Sales, dtype: float64"
            ]
          },
          "metadata": {},
          "execution_count": 33
        }
      ]
    },
    {
      "cell_type": "code",
      "source": [
        "weekly_sales = pd.pivot_table(df, values = \"Weekly_Sales\", columns = \"year\", index = \"week\")\n",
        "weekly_sales.plot()"
      ],
      "metadata": {
        "colab": {
          "base_uri": "https://localhost:8080/",
          "height": 474
        },
        "id": "eZvHEa09X1sO",
        "outputId": "ed7f16bc-5a55-4c60-adf6-00121b0a9688"
      },
      "execution_count": null,
      "outputs": [
        {
          "output_type": "execute_result",
          "data": {
            "text/plain": [
              "<Axes: xlabel='week'>"
            ]
          },
          "metadata": {},
          "execution_count": 34
        },
        {
          "output_type": "display_data",
          "data": {
            "text/plain": [
              "<Figure size 640x480 with 1 Axes>"
            ],
            "image/png": "[encoded data removed]"
          },
          "metadata": {}
        }
      ]
    },
    {
      "cell_type": "code",
      "source": [],
      "metadata": {
        "id": "ATnOyOsv4t_L"
      },
      "execution_count": null,
      "outputs": []
    },
    {
      "cell_type": "code",
      "source": [],
      "metadata": {
        "id": "jvjJoK0w4uhb"
      },
      "execution_count": null,
      "outputs": []
    },
    {
      "cell_type": "code",
      "source": [],
      "metadata": {
        "id": "YuOca4CX4uub"
      },
      "execution_count": null,
      "outputs": []
    },
    {
      "cell_type": "code",
      "source": [
        "plt.figure(figsize = (12,10))\n",
        "sns.heatmap(df.corr().abs())    # To see the correlations\n",
        "plt.show()"
      ],
      "metadata": {
        "colab": {
          "base_uri": "https://localhost:8080/",
          "height": 928
        },
        "id": "HfVDTMsEX1k-",
        "outputId": "fd6aece9-ab18-4de9-fde2-cc8994c92633"
      },
      "execution_count": null,
      "outputs": [
        {
          "output_type": "display_data",
          "data": {
            "text/plain": [
              "<Figure size 1200x1000 with 2 Axes>"
            ],
            "image/png": "[encoded data removed]"
          },
          "metadata": {}
        }
      ]
    },
    {
      "cell_type": "markdown",
      "source": [
        "Temperature, Fuel Price, unemployment, CPI have no significant effect on weekly sales, so I will drop them. Also, Markdown 4 is highly correlated with Markdown 1. So, I will drop them also. It can create multicollinearity problem, maybe. So, first I will try without them."
      ],
      "metadata": {
        "id": "9uikRwzP2OzK"
      }
    },
    {
      "cell_type": "code",
      "source": [
        "drop_col = ['Temperature','MarkDown4','Fuel_Price','CPI','Unemployment']\n",
        "df.drop(drop_col, axis=1, inplace=True)"
      ],
      "metadata": {
        "id": "kKxDfdxG6SYu"
      },
      "execution_count": null,
      "outputs": []
    },
    {
      "cell_type": "code",
      "source": [
        "df.to_csv('clean_data.csv')"
      ],
      "metadata": {
        "id": "8FgCe5aMX1od"
      },
      "execution_count": null,
      "outputs": []
    },
    {
      "cell_type": "code",
      "source": [
        "# Size and type are highly correlated with weekly sales\n",
        "df = df.sort_values(by='Date', ascending=True)"
      ],
      "metadata": {
        "id": "pNLVkqPSX1hL"
      },
      "execution_count": null,
      "outputs": []
    },
    {
      "cell_type": "code",
      "source": [
        "df = pd.read_csv('clean_data.csv')"
      ],
      "metadata": {
        "id": "htqi25M--rKI"
      },
      "execution_count": null,
      "outputs": []
    },
    {
      "cell_type": "code",
      "source": [
        "plot_acf(df['Weekly_Sales'])\n",
        "plt.plot()"
      ],
      "metadata": {
        "id": "JKqpg9-MX1Yg",
        "colab": {
          "base_uri": "https://localhost:8080/",
          "height": 470
        },
        "outputId": "19967e2f-d431-4ee7-ee0c-2856271c1431"
      },
      "execution_count": null,
      "outputs": [
        {
          "output_type": "execute_result",
          "data": {
            "text/plain": [
              "[]"
            ]
          },
          "metadata": {},
          "execution_count": 40
        },
        {
          "output_type": "display_data",
          "data": {
            "text/plain": [
              "<Figure size 640x480 with 1 Axes>"
            ],
            "image/png": "[encoded data removed]"
          },
          "metadata": {}
        }
      ]
    },
    {
      "cell_type": "code",
      "source": [
        "plot_pacf(df['Weekly_Sales'])\n",
        "plt.plot()"
      ],
      "metadata": {
        "colab": {
          "base_uri": "https://localhost:8080/",
          "height": 470
        },
        "id": "BIiYA40g5u-r",
        "outputId": "d2ca93f7-b5d8-4cec-e094-57336dd2b96d"
      },
      "execution_count": null,
      "outputs": [
        {
          "output_type": "execute_result",
          "data": {
            "text/plain": [
              "[]"
            ]
          },
          "metadata": {},
          "execution_count": 41
        },
        {
          "output_type": "display_data",
          "data": {
            "text/plain": [
              "<Figure size 640x480 with 1 Axes>"
            ],
            "image/png": "[encoded data removed]"
          },
          "metadata": {}
        }
      ]
    },
    {
      "cell_type": "code",
      "source": [
        "results = adfuller(df['Weekly_Sales'][:10000])\n",
        "print(results[1])"
      ],
      "metadata": {
        "id": "zMvuRCEKIDcE",
        "outputId": "af3ac5ce-060e-4b9d-9bb8-e0364560e52c",
        "colab": {
          "base_uri": "https://localhost:8080/"
        }
      },
      "execution_count": null,
      "outputs": [
        {
          "output_type": "stream",
          "name": "stdout",
          "text": [
            "0.0\n"
          ]
        }
      ]
    },
    {
      "cell_type": "markdown",
      "source": [
        "Null Hypothesis: Data is Non-Stationary.\n",
        "Alternate Hypothesis: Data is Stationary.\n",
        "The adfuller test result indicates that the null hypothesis is rejected. hence the data is stationary."
      ],
      "metadata": {
        "id": "21Dyp339Jnuw"
      }
    },
    {
      "cell_type": "code",
      "source": [
        "from sklearn.preprocessing import PowerTransformer\n",
        "from sklearn.preprocessing import OrdinalEncoder,LabelEncoder\n",
        "pt = PowerTransformer()"
      ],
      "metadata": {
        "id": "ecaREb68X1T4"
      },
      "execution_count": null,
      "outputs": []
    },
    {
      "cell_type": "code",
      "source": [
        "df['Type'] = LabelEncoder().fit_transform(df['Type'])\n",
        "df['IsHoliday'] = LabelEncoder().fit_transform(df['IsHoliday'])"
      ],
      "metadata": {
        "id": "DFvhQVsC0RU1"
      },
      "execution_count": null,
      "outputs": []
    },
    {
      "cell_type": "code",
      "source": [
        "print(df.nunique())"
      ],
      "metadata": {
        "id": "EY6dcjl80iNV",
        "outputId": "ec2c8770-8d39-4e0e-f3de-308d93e0ca40",
        "colab": {
          "base_uri": "https://localhost:8080/"
        }
      },
      "execution_count": null,
      "outputs": [
        {
          "output_type": "stream",
          "name": "stdout",
          "text": [
            "Unnamed: 0      421570\n",
            "Store               45\n",
            "Dept                81\n",
            "Date               143\n",
            "Weekly_Sales    359464\n",
            "IsHoliday            2\n",
            "MarkDown1         2278\n",
            "MarkDown2         1499\n",
            "MarkDown3         1662\n",
            "MarkDown5         2294\n",
            "Type                 3\n",
            "Size                40\n",
            "week                52\n",
            "month               12\n",
            "year                 3\n",
            "dtype: int64\n"
          ]
        }
      ]
    },
    {
      "cell_type": "code",
      "source": [
        "train_data = df[:int(0.7*(len(df)))] # taking train part\n",
        "test_data = df[int(0.7*(len(df))):] # taking test part\n",
        "\n",
        "target = \"Weekly_Sales\"\n",
        "used_cols = [c for c in df.columns.to_list() if c not in [target]] # all columns except weekly sales\n",
        "\n",
        "X_train = train_data[used_cols]\n",
        "X_test = test_data[used_cols]\n",
        "y_train = train_data[target]\n",
        "y_test = test_data[target]"
      ],
      "metadata": {
        "id": "3GJGHv6KX1cz"
      },
      "execution_count": null,
      "outputs": []
    },
    {
      "cell_type": "code",
      "source": [
        "train_columns = X_train.columns[1:]\n",
        "X_train = pd.DataFrame(data=pt.fit_transform(np.array(X_train.loc[:, ~X_train.columns.isin(['Date'])])),   \n",
        "              columns=train_columns)\n",
        "test_columns = X_test.columns[1:]\n",
        "X_test = pd.DataFrame(data=pt.fit_transform(np.array(X_test.loc[:, ~X_test.columns.isin(['Date'])])),   \n",
        "              columns=test_columns)"
      ],
      "metadata": {
        "id": "oOycsluHJmqI"
      },
      "execution_count": null,
      "outputs": []
    },
    {
      "cell_type": "code",
      "source": [
        "X_train.shape"
      ],
      "metadata": {
        "id": "CecZkRVbX1Pq",
        "colab": {
          "base_uri": "https://localhost:8080/"
        },
        "outputId": "07301806-bb72-46c2-a15e-0b72c25efd4b"
      },
      "execution_count": null,
      "outputs": [
        {
          "output_type": "execute_result",
          "data": {
            "text/plain": [
              "(295099, 13)"
            ]
          },
          "metadata": {},
          "execution_count": 89
        }
      ]
    },
    {
      "cell_type": "code",
      "source": [
        "X_test.shape"
      ],
      "metadata": {
        "id": "btDKiq8YX1LB",
        "colab": {
          "base_uri": "https://localhost:8080/"
        },
        "outputId": "c168f7ef-79ad-4f25-9c91-c77cdbbee724"
      },
      "execution_count": null,
      "outputs": [
        {
          "output_type": "execute_result",
          "data": {
            "text/plain": [
              "(126471, 13)"
            ]
          },
          "metadata": {},
          "execution_count": 90
        }
      ]
    },
    {
      "cell_type": "code",
      "source": [
        "selected_columns = ['Date','Weekly_Sales']\n",
        "df[selected_columns]"
      ],
      "metadata": {
        "id": "mT_7UobJX1Hp",
        "colab": {
          "base_uri": "https://localhost:8080/",
          "height": 423
        },
        "outputId": "32f4147b-000d-4028-cdaa-9a47270b926e"
      },
      "execution_count": null,
      "outputs": [
        {
          "output_type": "execute_result",
          "data": {
            "text/plain": [
              "              Date  Weekly_Sales\n",
              "0       2010-02-05      24924.50\n",
              "1       2010-02-05      50605.27\n",
              "2       2010-02-05      13740.12\n",
              "3       2010-02-05      39954.04\n",
              "4       2010-02-05      32229.38\n",
              "...            ...           ...\n",
              "421565  2012-10-26       2487.80\n",
              "421566  2012-10-26       5203.31\n",
              "421567  2012-10-26      56017.47\n",
              "421568  2012-10-26       6817.48\n",
              "421569  2012-10-26       1076.80\n",
              "\n",
              "[421570 rows x 2 columns]"
            ],
            "text/html": [
              "\n",
              "  <div id=\"df-2f4a32fe-d1dc-4e75-bca1-d51a2798f96b\">\n",
              "    <div class=\"colab-df-container\">\n",
              "      <div>\n",
              "<style scoped>\n",
              "    .dataframe tbody tr th:only-of-type {\n",
              "        vertical-align: middle;\n",
              "    }\n",
              "\n",
              "    .dataframe tbody tr th {\n",
              "        vertical-align: top;\n",
              "    }\n",
              "\n",
              "    .dataframe thead th {\n",
              "        text-align: right;\n",
              "    }\n",
              "</style>\n",
              "<table border=\"1\" class=\"dataframe\">\n",
              "  <thead>\n",
              "    <tr style=\"text-align: right;\">\n",
              "      <th></th>\n",
              "      <th>Date</th>\n",
              "      <th>Weekly_Sales</th>\n",
              "    </tr>\n",
              "  </thead>\n",
              "  <tbody>\n",
              "    <tr>\n",
              "      <th>0</th>\n",
              "      <td>2010-02-05</td>\n",
              "      <td>24924.50</td>\n",
              "    </tr>\n",
              "    <tr>\n",
              "      <th>1</th>\n",
              "      <td>2010-02-05</td>\n",
              "      <td>50605.27</td>\n",
              "    </tr>\n",
              "    <tr>\n",
              "      <th>2</th>\n",
              "      <td>2010-02-05</td>\n",
              "      <td>13740.12</td>\n",
              "    </tr>\n",
              "    <tr>\n",
              "      <th>3</th>\n",
              "      <td>2010-02-05</td>\n",
              "      <td>39954.04</td>\n",
              "    </tr>\n",
              "    <tr>\n",
              "      <th>4</th>\n",
              "      <td>2010-02-05</td>\n",
              "      <td>32229.38</td>\n",
              "    </tr>\n",
              "    <tr>\n",
              "      <th>...</th>\n",
              "      <td>...</td>\n",
              "      <td>...</td>\n",
              "    </tr>\n",
              "    <tr>\n",
              "      <th>421565</th>\n",
              "      <td>2012-10-26</td>\n",
              "      <td>2487.80</td>\n",
              "    </tr>\n",
              "    <tr>\n",
              "      <th>421566</th>\n",
              "      <td>2012-10-26</td>\n",
              "      <td>5203.31</td>\n",
              "    </tr>\n",
              "    <tr>\n",
              "      <th>421567</th>\n",
              "      <td>2012-10-26</td>\n",
              "      <td>56017.47</td>\n",
              "    </tr>\n",
              "    <tr>\n",
              "      <th>421568</th>\n",
              "      <td>2012-10-26</td>\n",
              "      <td>6817.48</td>\n",
              "    </tr>\n",
              "    <tr>\n",
              "      <th>421569</th>\n",
              "      <td>2012-10-26</td>\n",
              "      <td>1076.80</td>\n",
              "    </tr>\n",
              "  </tbody>\n",
              "</table>\n",
              "<p>421570 rows × 2 columns</p>\n",
              "</div>\n",
              "      <button class=\"colab-df-convert\" onclick=\"convertToInteractive('df-2f4a32fe-d1dc-4e75-bca1-d51a2798f96b')\"\n",
              "              title=\"Convert this dataframe to an interactive table.\"\n",
              "              style=\"display:none;\">\n",
              "        \n",
              "  <svg xmlns=\"http://www.w3.org/2000/svg\" height=\"24px\"viewBox=\"0 0 24 24\"\n",
              "       width=\"24px\">\n",
              "    <path d=\"M0 0h24v24H0V0z\" fill=\"none\"/>\n",
              "    <path d=\"M18.56 5.44l.94 2.06.94-2.06 2.06-.94-2.06-.94-.94-2.06-.94 2.06-2.06.94zm-11 1L8.5 8.5l.94-2.06 2.06-.94-2.06-.94L8.5 2.5l-.94 2.06-2.06.94zm10 10l.94 2.06.94-2.06 2.06-.94-2.06-.94-.94-2.06-.94 2.06-2.06.94z\"/><path d=\"M17.41 7.96l-1.37-1.37c-.4-.4-.92-.59-1.43-.59-.52 0-1.04.2-1.43.59L10.3 9.45l-7.72 7.72c-.78.78-.78 2.05 0 2.83L4 21.41c.39.39.9.59 1.41.59.51 0 1.02-.2 1.41-.59l7.78-7.78 2.81-2.81c.8-.78.8-2.07 0-2.86zM5.41 20L4 18.59l7.72-7.72 1.47 1.35L5.41 20z\"/>\n",
              "  </svg>\n",
              "      </button>\n",
              "      \n",
              "  <style>\n",
              "    .colab-df-container {\n",
              "      display:flex;\n",
              "      flex-wrap:wrap;\n",
              "      gap: 12px;\n",
              "    }\n",
              "\n",
              "    .colab-df-convert {\n",
              "      background-color: #E8F0FE;\n",
              "      border: none;\n",
              "      border-radius: 50%;\n",
              "      cursor: pointer;\n",
              "      display: none;\n",
              "      fill: #1967D2;\n",
              "      height: 32px;\n",
              "      padding: 0 0 0 0;\n",
              "      width: 32px;\n",
              "    }\n",
              "\n",
              "    .colab-df-convert:hover {\n",
              "      background-color: #E2EBFA;\n",
              "      box-shadow: 0px 1px 2px rgba(60, 64, 67, 0.3), 0px 1px 3px 1px rgba(60, 64, 67, 0.15);\n",
              "      fill: #174EA6;\n",
              "    }\n",
              "\n",
              "    [theme=dark] .colab-df-convert {\n",
              "      background-color: #3B4455;\n",
              "      fill: #D2E3FC;\n",
              "    }\n",
              "\n",
              "    [theme=dark] .colab-df-convert:hover {\n",
              "      background-color: #434B5C;\n",
              "      box-shadow: 0px 1px 3px 1px rgba(0, 0, 0, 0.15);\n",
              "      filter: drop-shadow(0px 1px 2px rgba(0, 0, 0, 0.3));\n",
              "      fill: #FFFFFF;\n",
              "    }\n",
              "  </style>\n",
              "\n",
              "      <script>\n",
              "        const buttonEl =\n",
              "          document.querySelector('#df-2f4a32fe-d1dc-4e75-bca1-d51a2798f96b button.colab-df-convert');\n",
              "        buttonEl.style.display =\n",
              "          google.colab.kernel.accessAllowed ? 'block' : 'none';\n",
              "\n",
              "        async function convertToInteractive(key) {\n",
              "          const element = document.querySelector('#df-2f4a32fe-d1dc-4e75-bca1-d51a2798f96b');\n",
              "          const dataTable =\n",
              "            await google.colab.kernel.invokeFunction('convertToInteractive',\n",
              "                                                     [key], {});\n",
              "          if (!dataTable) return;\n",
              "\n",
              "          const docLinkHtml = 'Like what you see? Visit the ' +\n",
              "            '<a target=\"_blank\" href=https://colab.research.google.com/notebooks/data_table.ipynb>data table notebook</a>'\n",
              "            + ' to learn more about interactive tables.';\n",
              "          element.innerHTML = '';\n",
              "          dataTable['output_type'] = 'display_data';\n",
              "          await google.colab.output.renderOutput(dataTable, element);\n",
              "          const docLink = document.createElement('div');\n",
              "          docLink.innerHTML = docLinkHtml;\n",
              "          element.appendChild(docLink);\n",
              "        }\n",
              "      </script>\n",
              "    </div>\n",
              "  </div>\n",
              "  "
            ]
          },
          "metadata": {},
          "execution_count": 91
        }
      ]
    },
    {
      "cell_type": "code",
      "source": [
        "def weighted_mae(dataset, real, predicted):\n",
        "    weights = dataset['IsHoliday'].apply(lambda x: 5 if x else 1)\n",
        "    return np.round(np.sum(weights*abs(real-predicted))/(np.sum(weights)), 2)"
      ],
      "metadata": {
        "id": "uniMdZ8k96Er"
      },
      "execution_count": null,
      "outputs": []
    },
    {
      "cell_type": "markdown",
      "source": [],
      "metadata": {
        "id": "hBfyRxNGCI4S"
      }
    },
    {
      "cell_type": "code",
      "source": [
        "def random_forest(n_estimators, max_depth):\n",
        "    result = []\n",
        "    for estimator in n_estimators:\n",
        "        for depth in max_depth:\n",
        "            wmaes_cv = []\n",
        "            for i in range(1,5):\n",
        "                rf = RandomForestRegressor(n_estimators=estimator, max_depth=depth)\n",
        "                rf.fit(X_train, y_train)\n",
        "                predicted = rf.predict(X_test)\n",
        "                wmaes_cv.append(weighted_mae(X_test, y_test, predicted))\n",
        "            print('WMAE:', np.mean(wmaes_cv))\n",
        "            result.append({'Max_Depth': depth, 'Estimators': estimator, 'WMAE': np.mean(wmaes_cv)})\n",
        "    return pd.DataFrame(result)"
      ],
      "metadata": {
        "id": "FZKkWADHX0nP"
      },
      "execution_count": null,
      "outputs": []
    },
    {
      "cell_type": "code",
      "source": [
        "n_estimators = [50, 55, 60]\n",
        "max_depth = [10, 20, 30]\n",
        "\n",
        "random_forest(n_estimators, max_depth)"
      ],
      "metadata": {
        "id": "jvcPaqfb6B_J",
        "outputId": "fae49220-3932-42f6-de6d-cb5e19a48a49",
        "colab": {
          "base_uri": "https://localhost:8080/"
        }
      },
      "execution_count": null,
      "outputs": [
        {
          "output_type": "stream",
          "name": "stdout",
          "text": [
            "0        -0.275118\n",
            "1        -0.275118\n",
            "2        -0.275118\n",
            "3        -0.275118\n",
            "4        -0.275118\n",
            "            ...   \n",
            "126466   -0.275118\n",
            "126467   -0.275118\n",
            "126468   -0.275118\n",
            "126469   -0.275118\n",
            "126470   -0.275118\n",
            "Name: IsHoliday, Length: 126471, dtype: float64\n",
            "0         5\n",
            "1         5\n",
            "2         5\n",
            "3         5\n",
            "4         5\n",
            "         ..\n",
            "126466    5\n",
            "126467    5\n",
            "126468    5\n",
            "126469    5\n",
            "126470    5\n",
            "Name: IsHoliday, Length: 126471, dtype: int64\n",
            "0        -0.275118\n",
            "1        -0.275118\n",
            "2        -0.275118\n",
            "3        -0.275118\n",
            "4        -0.275118\n",
            "            ...   \n",
            "126466   -0.275118\n",
            "126467   -0.275118\n",
            "126468   -0.275118\n",
            "126469   -0.275118\n",
            "126470   -0.275118\n",
            "Name: IsHoliday, Length: 126471, dtype: float64\n",
            "0         5\n",
            "1         5\n",
            "2         5\n",
            "3         5\n",
            "4         5\n",
            "         ..\n",
            "126466    5\n",
            "126467    5\n",
            "126468    5\n",
            "126469    5\n",
            "126470    5\n",
            "Name: IsHoliday, Length: 126471, dtype: int64\n",
            "0        -0.275118\n",
            "1        -0.275118\n",
            "2        -0.275118\n",
            "3        -0.275118\n",
            "4        -0.275118\n",
            "            ...   \n",
            "126466   -0.275118\n",
            "126467   -0.275118\n",
            "126468   -0.275118\n",
            "126469   -0.275118\n",
            "126470   -0.275118\n",
            "Name: IsHoliday, Length: 126471, dtype: float64\n",
            "0         5\n",
            "1         5\n",
            "2         5\n",
            "3         5\n",
            "4         5\n",
            "         ..\n",
            "126466    5\n",
            "126467    5\n",
            "126468    5\n",
            "126469    5\n",
            "126470    5\n",
            "Name: IsHoliday, Length: 126471, dtype: int64\n",
            "0        -0.275118\n",
            "1        -0.275118\n",
            "2        -0.275118\n",
            "3        -0.275118\n",
            "4        -0.275118\n",
            "            ...   \n",
            "126466   -0.275118\n",
            "126467   -0.275118\n",
            "126468   -0.275118\n",
            "126469   -0.275118\n",
            "126470   -0.275118\n",
            "Name: IsHoliday, Length: 126471, dtype: float64\n",
            "0         5\n",
            "1         5\n",
            "2         5\n",
            "3         5\n",
            "4         5\n",
            "         ..\n",
            "126466    5\n",
            "126467    5\n",
            "126468    5\n",
            "126469    5\n",
            "126470    5\n",
            "Name: IsHoliday, Length: 126471, dtype: int64\n",
            "WMAE: 0.0\n"
          ]
        }
      ]
    },
    {
      "cell_type": "code",
      "source": [],
      "metadata": {
        "id": "A87JdOJL6Bmb"
      },
      "execution_count": null,
      "outputs": []
    },
    {
      "cell_type": "code",
      "source": [],
      "metadata": {
        "id": "-DP8VCW66Be9"
      },
      "execution_count": null,
      "outputs": []
    },
    {
      "cell_type": "code",
      "source": [],
      "metadata": {
        "id": "MIIYaxtJ6BYm"
      },
      "execution_count": null,
      "outputs": []
    },
    {
      "cell_type": "code",
      "source": [],
      "metadata": {
        "id": "6xqzsYVf6BQ0"
      },
      "execution_count": null,
      "outputs": []
    }
  ]
}